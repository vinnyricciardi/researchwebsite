{
 "cells": [
  {
   "cell_type": "code",
   "execution_count": 81,
   "metadata": {
    "scrolled": true
   },
   "outputs": [
    {
     "data": {
      "text/html": [
       "<script>\n",
       "code_show=true; \n",
       "function code_toggle() {\n",
       " if (code_show){\n",
       " $('div.input').hide();\n",
       " } else {\n",
       " $('div.input').show();\n",
       " }\n",
       " code_show = !code_show\n",
       "} \n",
       "$( document ).ready(code_toggle);\n",
       "</script>"
      ],
      "text/plain": [
       "<IPython.core.display.HTML object>"
      ]
     },
     "execution_count": 81,
     "metadata": {},
     "output_type": "execute_result"
    }
   ],
   "source": [
    "from IPython.display import HTML\n",
    "HTML('''<script>\n",
    "code_show=true; \n",
    "function code_toggle() {\n",
    " if (code_show){\n",
    " $('div.input').hide();\n",
    " } else {\n",
    " $('div.input').show();\n",
    " }\n",
    " code_show = !code_show\n",
    "} \n",
    "$( document ).ready(code_toggle);\n",
    "</script>''')"
   ]
  },
  {
   "cell_type": "code",
   "execution_count": 82,
   "metadata": {
    "code_folding": []
   },
   "outputs": [
    {
     "data": {
      "text/html": [
       "\n",
       "<style>\n",
       "    .yourDiv {position: fixed;top: 100px; left: 10px; \n",
       "              background: transparent;\n",
       "              height: 100%;\n",
       "              width: 175px; \n",
       "              padding: 10px; \n",
       "              z-index: 10000}\n",
       "</style>\n",
       "<script>\n",
       "function showthis(url) {\n",
       "\twindow.open(url, \"pres\", \n",
       "                \"toolbar=yes,scrollbars=yes,resizable=yes,top=10,left=400,width=500,height=500\");\n",
       "\treturn(false);\n",
       "}\n",
       "</script>\n",
       "\n",
       "<div class=yourDiv>\n",
       "    <h4>MENU</h4><br>\n",
       "    <a href=#Data>1. Data</a><br>\n",
       "    <a href=#FoodFeedOtherAcross>2. Across Farm Sizes</a><br>\n",
       "    <a href=#FoodFeedOtherWithin>3. Within Farm Sizes</a><br>\n",
       "    <a href=#GlobalEstimates>3. Global Estimates</a><br><br>\n",
       "\n",
       "    <a href=#Top>Top</a><br>\n",
       "    <a href=\"javascript:code_toggle()\">Toggle Code On/Off</a><br>\n",
       "    <a href=#LeftOff>Left Off Here</a><br>\n",
       "    \n",
       "    <h4>PROJECT NOTEBOOKS</h4><br>\n",
       "    <a href='../Project_Overview'>Project Overview</a><br>\n",
       "    <a href='../Data_Coverage'>Data Coverage</a><br>\n",
       "    <a href='../General_Results'>General Results</a><br>\n",
       "    <a href='../Global_Estimate'>Global Estimates</a><br>\n",
       "    <a href='../Crop_Diversity'>Crop Diversity</a><br>\n",
       "    <a href='../Sensitivity_Analyses'>Sensitivity Analyses</a><br>\n",
       "    <a href='https://vinnyricciardi.github.io/farmsize_site/'>Site Index</a><br>\n",
       "</div>\n"
      ],
      "text/plain": [
       "<IPython.core.display.HTML object>"
      ]
     },
     "execution_count": 82,
     "metadata": {},
     "output_type": "execute_result"
    }
   ],
   "source": [
    "HTML('''\n",
    "<style>\n",
    "    .yourDiv {position: fixed;top: 100px; left: 10px; \n",
    "              background: transparent;\n",
    "              height: 100%;\n",
    "              width: 175px; \n",
    "              padding: 10px; \n",
    "              z-index: 10000}\n",
    "</style>\n",
    "<script>\n",
    "function showthis(url) {\n",
    "\twindow.open(url, \"pres\", \n",
    "                \"toolbar=yes,scrollbars=yes,resizable=yes,top=10,left=400,width=500,height=500\");\n",
    "\treturn(false);\n",
    "}\n",
    "</script>\n",
    "\n",
    "<div class=yourDiv id=media-mobile>\n",
    "    <h4>MENU</h4><br>\n",
    "    <a href=#Data>1. Data</a><br>\n",
    "    <a href=#FoodFeedOtherAcross>2. Across Farm Sizes</a><br>\n",
    "    <a href=#FoodFeedOtherWithin>3. Within Farm Sizes</a><br>\n",
    "    <a href=#GlobalEstimates>3. Global Estimates</a><br><br>\n",
    "\n",
    "    <a href=#Top>Top</a><br>\n",
    "    <a href=\"javascript:code_toggle()\">Toggle Code On/Off</a><br>\n",
    "    <a href=#LeftOff>Left Off Here</a><br>\n",
    "    \n",
    "    <h4>PROJECT NOTEBOOKS</h4><br>\n",
    "    <a href='../Project_Overview'>Project Overview</a><br>\n",
    "    <a href='../Data_Coverage'>Data Coverage</a><br>\n",
    "    <a href='../General_Results'>General Results</a><br>\n",
    "    <a href='../Global_Estimate'>Global Estimates</a><br>\n",
    "    <a href='../Crop_Diversity'>Crop Diversity</a><br>\n",
    "    <a href='../Sensitivity_Analyses'>Sensitivity Analyses</a><br>\n",
    "    <a href='https://vinnyricciardi.github.io/farmsize_site/'>Site Index</a><br>\n",
    "</div>\n",
    "''')"
   ]
  },
  {
   "cell_type": "markdown",
   "metadata": {},
   "source": [
    "<a name=\"Top\"></a>\n",
    "<center><h1>General Results</h1>"
   ]
  },
  {
   "cell_type": "code",
   "execution_count": 83,
   "metadata": {
    "code_folding": [],
    "collapsed": true,
    "variables": {
     "number_countries": "55",
     "over_thous_waste_within": "7.5",
     "under2_high": "33.98",
     "under2_low": "29.94",
     "under_two": "31.7",
     "under_two_feed": "13",
     "under_two_food": "57",
     "under_two_waste": "4",
     "under_two_waste_across": "28.06"
    }
   },
   "outputs": [],
   "source": [
    "# *To get dynamic results in this paragraph,\n",
    "# Uncomment this code block, set Jupyter to markdown, run entire notebook, rerun this codeblock.\n",
    "# Output of this was pasted into the written description below.*<br><br>\n",
    "\n",
    "# This page overviews our general results:\n",
    "\n",
    "# - In our sample of {{number_countries}} countries, farms < 2 ha produce {{under_two}}% of the total food supply (global estimate of between {{under2_low}}% to {{under2_high}}% via bootstrap sampling). This smallest farm size class was the greatest producer of food compared to all other classes.<br><br>\n",
    "\n",
    "# - Farms < 2ha were also the farm size class contributing to the largest amount of food waste (post-harvest loss, not consumer based food waste); these farms contribute to {{under_two_waste_across}}% of the total food waste in our dataset. However, this is mainly because this farm size group significantly contributes to the total crop production. <br><br>\n",
    "\n",
    "# - This study also measures what percentage of each farm size class's crop production goes towards food, feed, processing, seed, waste, or other. Smallholders have the greatest percentage of their crop production allocated towards food versus all other farm size classes. {{under_two_food}}% of crop production on farms < 2 ha goes towards food, while {{under_two_feed}}% goes towards feed and {{under_two_waste}}% is wasted (post-harvest loss). The remainder either goes towards processing, seed, or other. The largest farm class, farms > 1000 ha, had the most amount of food waste, as {{over_thous_waste_within}}% of their crop production is wasted. This may be due to this largest farm size class has the greatest percentage of their production going towards processing.<br><br>\n",
    "\n",
    "# - For more information on the analysis of crop diversity in our study, please see [this notebook](../Crop_Diversity); the general analysis is detailed below."
   ]
  },
  {
   "cell_type": "markdown",
   "metadata": {
    "collapsed": true
   },
   "source": [
    "This page overviews our general results:<br><br>\n",
    "\n",
    "- In our sample of 55 countries, farms < 2 ha produce 31.7% of the total food supply (global estimate of between 29.94% to 33.98% via bootstrap sampling). This smallest farm size class was the greatest producer of food compared to all other classes.<br><br>\n",
    "\n",
    "- Farms < 2 ha were also the farm size class contributing to the largest amount of food waste (post-harvest loss, not consumer based food waste); these farms contribute to 28.06% of the total food waste in our dataset. However, this is mainly because this farm size group significantly contributes to the total crop production.<br><br>\n",
    "\n",
    "- This study also measures what percentage of each farm size class's crop production goes towards food, feed, processing, seed, waste, or other. Smallholders have the greatest percentage of their crop production allocated towards food versus all other farm size classes. 57% of crop production on farms < 2 ha goes towards food, while 13% goes towards feed and 4% is wasted (post-harvest loss). The remainder either goes towards processing, seed, or other. The largest farm class, farms > 1000 ha, had the most amount of food waste, as 7.5% of their crop production is wasted. This may be due to this largest farm size class has the greatest percentage of their production going towards processing.<br><br>\n",
    "\n",
    "- For more information on the analysis of crop diversity in our study, please see [this notebook](../Crop_Diversity)."
   ]
  },
  {
   "cell_type": "code",
   "execution_count": 84,
   "metadata": {
    "collapsed": true
   },
   "outputs": [],
   "source": [
    "import warnings\n",
    "warnings.filterwarnings('ignore')\n",
    "import subprocess\n",
    "import seaborn as sns\n",
    "import pandas as pd\n",
    "import numpy as np\n",
    "import matplotlib.pyplot as plt\n",
    "from matplotlib import cm\n",
    "import matplotlib.gridspec as gridspec\n",
    "from matplotlib import colors\n",
    "import copy\n",
    "from collections import OrderedDict\n",
    "from pivottablejs import pivot_ui  # may have to use: python setup.py install --user\n",
    "import scipy.stats as st\n",
    "import statsmodels.stats.api as sms\n",
    "from scipy.stats import linregress\n",
    "import matplotlib.patches as patches\n",
    "from matplotlib import lines\n",
    "from matplotlib.colors import ListedColormap\n",
    "from sklearn import linear_model\n",
    "# import statsmodels.api as sm\n",
    "import statsmodels.formula.api as smf\n",
    "from scikits import bootstrap  # may have to pip install *.zip\n",
    "    \n",
    "plt.style.use('seaborn-muted')\n",
    "pd.set_option('display.max_columns', 500)\n",
    "pd.set_option('display.max_rows', 500)\n",
    "\n",
    "%matplotlib inline"
   ]
  },
  {
   "cell_type": "code",
   "execution_count": 85,
   "metadata": {
    "code_folding": [],
    "collapsed": true
   },
   "outputs": [],
   "source": [
    "def read_data_init(path, use_predicted=False):\n",
    "    \n",
    "    data = pd.read_csv(path, low_memory=False)\n",
    "    data['fs_class_max'] = np.where(data['fs_class_max'].isnull(), 10000, data['fs_class_max'])\n",
    "    \n",
    "    if use_predicted is False:\n",
    "        \n",
    "        data['Farm_Sizes'] = pd.cut(data['fs_class_max'],\n",
    "                                    bins=[0, 1, 2, 5, 10, 20, 50,\n",
    "                                          100, 200, 500, 1000, 100000])\n",
    "    else:\n",
    "        \n",
    "        # Predicted data is available with these breaks only due to sample sizes per model\n",
    "        data['Farm_Sizes'] = pd.cut(data['fs_class_max'],\n",
    "                                    bins=[0, 2, 5, 10, 20, 50, 100, 100000])                                \n",
    "    data = data.replace(0.0, np.nan)  # there were many zero values\n",
    "    \n",
    "    return data"
   ]
  },
  {
   "cell_type": "code",
   "execution_count": 86,
   "metadata": {
    "code_folding": [],
    "collapsed": true
   },
   "outputs": [],
   "source": [
    "def join_predicted(path_data_orig, use_predicted=True, predict_how='means'):\n",
    "    \n",
    "    data_orig = read_data_init(path_data_orig, use_predicted=use_predicted)\n",
    "    \n",
    "    if predict_how is 'uppers':\n",
    "        try:\n",
    "            PATH_predicted = '/home/vinny_ricciardi/Documents/Data_Library_SSD/Survey/Global/Farm_Size/Data/predicted_data_uppers.csv'\n",
    "        except:\n",
    "            PATH_predicted = '/Users/Vinny_Ricciardi/Documents/Data_Library_Big/Survey/Global/Farm_Size/Data/predicted_data_uppers.csv'\n",
    "            \n",
    "    elif predict_how is 'lowers':\n",
    "        try:\n",
    "            PATH_predicted = '/home/vinny_ricciardi/Documents/Data_Library_SSD/Survey/Global/Farm_Size/Data/predicted_data_lowers.csv'\n",
    "        except:\n",
    "            PATH_predicted = '/Users/Vinny_Ricciardi/Documents/Data_Library_Big/Survey/Global/Farm_Size/Data/predicted_data_lowers.csv'\n",
    "\n",
    "    elif predict_how is 'means':\n",
    "#         try:\n",
    "#             PATH_predicted = '/home/vinny_ricciardi/Documents/Data_Library_SSD/Survey/Global/Farm_Size/Data/predicted_data_means.csv'\n",
    "#         except:\n",
    "        PATH_predicted = '/Users/Vinny_Ricciardi/Documents/Data_Library_Big/Survey/Global/Farm_Size/Data/predicted_data_means.csv'\n",
    "            \n",
    "    predicted = pd.read_csv(PATH_predicted)\n",
    "    \n",
    "    predicted['shpID'] = predicted['NAME_0']\n",
    "    predicted['Item_Code'] = 99999\n",
    "    # predicted = predicted.loc[predicted['NAME_0'] != 'China']  # To see effects of China, or India uncomment and change accordingly\n",
    "\n",
    "    data_orig = pd.merge(data_orig, \n",
    "                         predicted, \n",
    "                         on=['NAME_0',\n",
    "                             'Farm_Sizes', \n",
    "                             'shpID', \n",
    "                             'Item_Code', \n",
    "                             'production_Food_kcal',\n",
    "                             'production_Feed_kcal',\n",
    "                             'production_Seed_kcal',\n",
    "                             'production_Waste_kcal',\n",
    "                             'production_Processing_kcal',\n",
    "                             'production_Other_kcal'],\n",
    "                         how='outer')\n",
    "    \n",
    "    data_orig['Farm_Sizes'] = pd.Categorical(data_orig['Farm_Sizes'], \n",
    "                                             categories=['(0, 2]', '(2, 5]', '(5, 10]', \n",
    "                                                         '(10, 20]', '(20, 50]', '(50, 100]', \n",
    "                                                         '(100, 100000]'],\n",
    "                                             ordered=True)\n",
    "    return data_orig"
   ]
  },
  {
   "cell_type": "code",
   "execution_count": 87,
   "metadata": {
    "code_folding": [],
    "collapsed": true
   },
   "outputs": [],
   "source": [
    "def clean_data(data):\n",
    "\n",
    "    global variables\n",
    "    variables = OrderedDict([('Farm_Sizes', 'Farm_Sizes'),\n",
    "                             ('production_Food_kcal', 'Food'),\n",
    "                             ('production_Feed_kcal', 'Feed'),\n",
    "                             ('production_Seed_kcal', 'Seed'),\n",
    "                             ('production_Waste_kcal', 'Waste'),\n",
    "                             ('production_Processing_kcal', 'Processing'),\n",
    "                             ('production_Other_kcal', 'Other')])\n",
    "\n",
    "    data = data.loc[:, variables.keys()]\n",
    "    data.columns = variables.values()\n",
    "\n",
    "    return data"
   ]
  },
  {
   "cell_type": "code",
   "execution_count": 88,
   "metadata": {
    "code_folding": [],
    "collapsed": true
   },
   "outputs": [],
   "source": [
    "def piv(data, func=np.nansum):\n",
    "\n",
    "    pivot = pd.pivot_table(data,\n",
    "                           index=['Farm_Sizes'],\n",
    "                           values=variables.values()[1:],\n",
    "                           aggfunc=func)\n",
    "\n",
    "    return pivot"
   ]
  },
  {
   "cell_type": "code",
   "execution_count": 89,
   "metadata": {
    "code_folding": [],
    "collapsed": true
   },
   "outputs": [],
   "source": [
    "def perc(data, how='within'):\n",
    "\n",
    "    if how is 'within':\n",
    "\n",
    "        pivot = piv(data)\n",
    "        pivot = pivot.transpose()\n",
    "\n",
    "        for variable in pivot.columns:\n",
    "            pivot[variable] = pivot[variable] / pivot[variable].sum()\n",
    "\n",
    "        return pivot.transpose()\n",
    "\n",
    "\n",
    "    elif how is 'cumsum':\n",
    "\n",
    "        pivot = piv(data)\n",
    "\n",
    "        for variable in pivot.columns:\n",
    "            pivot[variable] = pivot[variable] / pivot[variable].sum()\n",
    "\n",
    "        pivot = pivot.cumsum(axis=0)\n",
    "\n",
    "        return pivot\n",
    "\n",
    "\n",
    "    elif how is 'across':\n",
    "\n",
    "        pivot = piv(data)\n",
    "\n",
    "        for variable in pivot.columns:\n",
    "            pivot[variable] = pivot[variable] / pivot[variable].sum()\n",
    "\n",
    "        return pivot.transpose()\n",
    "\n",
    "    else:\n",
    "\n",
    "        print 'Require how argument'"
   ]
  },
  {
   "cell_type": "code",
   "execution_count": 90,
   "metadata": {
    "collapsed": true
   },
   "outputs": [],
   "source": [
    "# To incorporate predicted values set to True. To only use directly measured dataset set to False\n",
    "    \n",
    "use_predicted = False\n",
    "\n",
    "PATH = '/Users/Vinny_Ricciardi/Documents/Data_Library_Big/Survey/Global/Farm_Size/Data/FarmSize_data_fullyProcessed.csv'\n",
    "# PATH = '/home/vinny_ricciardi/Documents/Data_Library_SSD/Survey/Global/Farm_Size/Data/FarmSize_data_fullyProcessed.csv'    \n",
    "\n",
    "if use_predicted is True:\n",
    "\n",
    "    data_orig = join_predicted(PATH, \n",
    "                               use_predicted=True, \n",
    "                               predict_how='means')\n",
    "         \n",
    "else:\n",
    "    \n",
    "    data_orig = read_data_init(PATH, use_predicted=use_predicted)\n",
    "\n",
    "df = clean_data(data_orig)"
   ]
  },
  {
   "cell_type": "code",
   "execution_count": 91,
   "metadata": {
    "collapsed": true
   },
   "outputs": [],
   "source": [
    "df_within = perc(df, how='within')\n",
    "df_across = perc(df, how='across')\n",
    "df_cumsum = perc(df, how='cumsum')\n",
    "df_across_prod = pd.DataFrame(df_across.mean(), columns=['All']).reset_index()\n",
    "df_raw = piv(df)"
   ]
  },
  {
   "cell_type": "code",
   "execution_count": 92,
   "metadata": {
    "collapsed": true
   },
   "outputs": [],
   "source": [
    "tmp1 = df_within.copy()\n",
    "tmp1['Type'] = 'Within'\n",
    "\n",
    "tmp2 = df_across.copy()\n",
    "tmp2 = tmp2.transpose()\n",
    "tmp2['Type'] = 'Across'\n",
    "\n",
    "tmp3 = df_cumsum.copy()\n",
    "tmp3['Type'] = 'Cumsum'\n",
    "\n",
    "tmp4 = df_raw.copy()\n",
    "tmp4['Type'] = 'Raw'\n",
    "\n",
    "tmp5 = df_across_prod.copy()\n",
    "tmp5['Type'] = 'All'\n",
    "\n",
    "tmp = pd.concat([tmp1, tmp2, tmp3, tmp4])\n",
    "tmp = tmp.reset_index()\n",
    "# tmp = pd.merge(tmp, tmp5, on=['Farm_Sizes', 'Type'], how='outer')\n",
    "tmp['Farm_Sizes'] = tmp['Farm_Sizes'].astype(str).str.replace('(', '')\n",
    "tmp['Farm_Sizes'] = tmp['Farm_Sizes'].astype(str).str.replace(']', '')"
   ]
  },
  {
   "cell_type": "code",
   "execution_count": 93,
   "metadata": {
    "collapsed": true
   },
   "outputs": [],
   "source": [
    "if use_predicted is False:\n",
    "\n",
    "    under_two = round(100 * df_cumsum.iloc[1,1], 1)\n",
    "    under_fifty = round(100 * df_cumsum.iloc[5,1], 1)\n",
    "    onehund_twohund = round(100 * (df_across.iloc[1, 7]), 1)\n",
    "\n",
    "    one_food = round(100 * df_within.iloc[0,1], 1)\n",
    "    one_waste = round(100 * df_within.iloc[0,5], 1)\n",
    "    two_food = round(100 * df_within.iloc[1,1], 1)\n",
    "    two_waste = round(100 * df_within.iloc[1,5], 1)\n",
    "    one_feed =  round(100 * df_within.iloc[0,0], 1)\n",
    "    two_feed =  round(100 * df_within.iloc[1,0], 1)\n",
    "\n",
    "    tmp_txt = data_orig.query(\"production_Food == production_Food\")\n",
    "    number_countries = number_countries = len(tmp_txt.NAME_0.unique())\n",
    "    number_records = len(tmp_txt)\n",
    "    under_two_food = int(round((one_food + two_food) / 2, 0))\n",
    "    under_two_waste = int(round((one_waste + two_waste) / 2, 0))\n",
    "    under_two_feed = int(round((one_feed + two_feed) / 2, 0))\n",
    "\n",
    "    under_two_waste_across = round(100 * df_cumsum.iloc[1, -1], 2)\n",
    "    under_two_food_within = round(100 * ((df_within.iloc[0, 1] + df_within.iloc[1, 1]) / 2), 2)\n",
    "    over_thous_waste_within = round(100 * df_within.iloc[-1, -1], 2)\n",
    "    \n",
    "    area = pd.pivot_table(data_orig, index='Farm_Sizes', values='Area_fix', aggfunc=np.nansum).reset_index()\n",
    "    area['area_perc'] = area['Area_fix'] / area['Area_fix'].sum()\n",
    "    \n",
    "else:\n",
    "    pass"
   ]
  },
  {
   "cell_type": "markdown",
   "metadata": {},
   "source": [
    "<a name=\"Data\"></a>\n",
    "<h2>Data</h2><br>\n",
    "\n",
    "For an overview of the data, see the [data coverage notebook](../Data_Coverage).<br><br>\n",
    "Click the table to interactively explore the data. Use 'type' to change whether you are looking at the percentage of crop produced for each category 'within' a farm size group, 'across' groups, via a 'cumulative' percentage across groups, or raw kcal produced. Use the dropdown labeled 'Food' to recalculate based on another production category. "
   ]
  },
  {
   "cell_type": "code",
   "execution_count": 94,
   "metadata": {
    "code_folding": [],
    "collapsed": true,
    "scrolled": false
   },
   "outputs": [],
   "source": [
    "# pivot_ui(tmp, \n",
    "#          rows=['Farm_Sizes'], \n",
    "#          cols=['Type'], \n",
    "#          aggregatorName='Sum', \n",
    "#          vals=['Food'],\n",
    "#          rendererName='Col Heatmap', \n",
    "#          colOrder= \"value_a_to_z\")\n",
    "\n",
    "# Enable for pivot table interactivitity within this Jupyter notebook\n",
    "# Here's a nice example of how to change the html output file for prettier output when in html: \n",
    "# https://pivottable.js.org/examples/montreal_2014.html"
   ]
  },
  {
   "cell_type": "code",
   "execution_count": 95,
   "metadata": {
    "collapsed": true
   },
   "outputs": [],
   "source": [
    "# gen_path = '/Users/Vinny_Ricciardi/Documents/Scripts/Python/Projects/FarmSize_Global/virtualenvironment/app_/JupyterSite/'\n",
    "gen_path = '/home/vinny_ricciardi/Documents/Scripts/Python/Projects/FarmSize_Global/virtualenvironment/app_/JupyterSite/'\n",
    "html_path = gen_path + 'Notebooks/pivottablejs.html'\n",
    "img_path = gen_path + 'Html/pivot_pic.png'\n",
    "\n",
    "subprocess.call(\"wkhtmltoimage {} {}\".format(html_path, img_path), shell=True);"
   ]
  },
  {
   "cell_type": "code",
   "execution_count": 96,
   "metadata": {},
   "outputs": [
    {
     "data": {
      "text/html": [
       "<a href=\"../pivottablejs\" \n",
       "rel=\"some text\">\n",
       "<img src=../pivot_pic.png \n",
       "    alt=\"Drawing\" style=\"width: 700px;\"/>\n",
       "    "
      ],
      "text/plain": [
       "<IPython.core.display.HTML object>"
      ]
     },
     "metadata": {},
     "output_type": "display_data"
    }
   ],
   "source": [
    "%%html\n",
    "<a href=\"../pivottablejs\" \n",
    "rel=\"some text\">\n",
    "<img src=../pivot_pic.png \n",
    "    alt=\"Drawing\" style=\"width: 700px;\"/>\n",
    "    "
   ]
  },
  {
   "cell_type": "markdown",
   "metadata": {},
   "source": [
    "<a name=\"FoodFeedOtherAcross\"></a>\n",
    "<h2>Food Feed Other by Farm Size</h2><br>"
   ]
  },
  {
   "cell_type": "code",
   "execution_count": 97,
   "metadata": {
    "collapsed": true
   },
   "outputs": [],
   "source": [
    "t = round(100 * df_across.iloc[1,-2], 1)"
   ]
  },
  {
   "cell_type": "markdown",
   "metadata": {
    "variables": {
     "round(100 * df_across.iloc[1,-2], 1)": "9.8"
    }
   },
   "source": [
    "This plot shows the percentage that each farm size contributes to each category (e.g., food, feed, other, etc.). For example, farms between 500 to 1000 ha produce {{round(100 * df_across.iloc[1,-2], 1)}}% of the total food supply in our sample."
   ]
  },
  {
   "cell_type": "code",
   "execution_count": 98,
   "metadata": {
    "code_folding": [],
    "collapsed": true
   },
   "outputs": [],
   "source": [
    "def plot_stacked_bar(data, how='within', fig_=True, ax=None, use_predicted=use_predicted):\n",
    "\n",
    "    txt1 = ['Food', 'Feed', 'Processing', 'Seed', 'Waste', 'Other']\n",
    "    \n",
    "    if use_predicted is False:\n",
    "\n",
    "        txt2 = ['< 1', '1 to 2', '2 to 5', '5 to 10', '10 to 20',\n",
    "                '20 to 50', '50 to 100', '100 to 200', '200 to 500',\n",
    "                '500 to 1000', '> 1000']\n",
    "        txt3 = ['< 1', '2 to 5', '10 to 20', '50 to 100', '200 to 500', '> 1000']\n",
    "\n",
    "    else:\n",
    "        \n",
    "        txt2 = ['< 2', '2 to 5', '5 to 10', '10 to 20',\n",
    "                '20 to 50', '50 to 100', '> 100']\n",
    "        txt3 = ['< 2', '10 to 20', '50 to 100', '> 100']\n",
    "\n",
    "    \n",
    "    if how is 'within':\n",
    "\n",
    "        legend_txts = copy.copy(txt1)\n",
    "        labels_txts = copy.copy(txt2)\n",
    "        cmap = ListedColormap(sns.color_palette('muted', n_colors=6).as_hex())\n",
    "        kind = 'bar'\n",
    "        data = data.loc[:, txt1]\n",
    "\n",
    "    elif how is 'across':\n",
    "\n",
    "        legend_txts = copy.copy(txt2)\n",
    "        labels_txts = copy.copy(txt1)\n",
    "        cmap = ListedColormap(sns.color_palette('BuPu', n_colors=11).as_hex())\n",
    "        kind = 'bar'\n",
    "        data = data.transpose().loc[:, txt1].transpose()\n",
    "\n",
    "    elif how is 'cumsum':\n",
    "\n",
    "        legend_txts = copy.copy(txt1)\n",
    "        labels_txts = copy.copy(txt3)\n",
    "        cmap = ListedColormap(sns.color_palette('muted', n_colors=6).as_hex())\n",
    "        kind = 'area'\n",
    "        data = data.loc[:, txt1]\n",
    "    \n",
    "    else:\n",
    "        pass\n",
    "    \n",
    "    if fig_ is True:\n",
    "        \n",
    "        fig = plt.figure(figsize=[10, 5], facecolor='white')\n",
    "        ax = fig.add_subplot(111)\n",
    "    \n",
    "    else:\n",
    "        pass\n",
    "    \n",
    "    data = 100 * data \n",
    "    data.plot(kind=kind,\n",
    "              stacked=True,\n",
    "              cmap=cmap,\n",
    "              alpha=0.9,\n",
    "              linewidth=0,\n",
    "              grid=False,\n",
    "              ax=ax)\n",
    "    \n",
    "    # Axis main\n",
    "#     ax.set_axis_bgcolor(\"#ffffff\")\n",
    "    ax.set_clip_on(False)\n",
    "    box = ax.get_position()\n",
    "    ax.set_position([box.x0, box.y0, box.width * 0.8, box.height])\n",
    "\n",
    "    # Legend\n",
    "    legend_txts_r = copy.deepcopy(legend_txts)\n",
    "    legend_txts_r.reverse()\n",
    "    handles, labels = ax.get_legend_handles_labels()\n",
    "    legend = ax.legend(handles[::-1], labels[::-1],\n",
    "                       loc='center left',\n",
    "                       frameon=1,\n",
    "                       bbox_to_anchor=(1, 0.5))\n",
    "\n",
    "    for i in xrange(len(legend_txts_r)):\n",
    "        legend.get_texts()[i].set_text(legend_txts_r[i])\n",
    "\n",
    "    frame = legend.get_frame()\n",
    "    frame.set_color('white')\n",
    "\n",
    "    # Axis particulars\n",
    "    ax.set_xticklabels(labels_txts)\n",
    "    ax.set_xticklabels(ax.xaxis.get_majorticklabels(), rotation=45)\n",
    "    ax.spines['top'].set_visible(False)\n",
    "    ax.spines['right'].set_visible(False)\n",
    "    \n",
    "    if how is 'within':\n",
    "        ax.set_xlabel('\\nFarm Sizes (ha)', fontsize=12)\n",
    "        ax.set_ylabel('Percentage\\n', fontsize=12)\n",
    "        ax.set_ylim([0, 100])\n",
    "        ax.set_title('Type of production per farm size\\n', fontsize=12)\n",
    "\n",
    "    elif how is 'across':\n",
    "        ax.set_xlabel('\\nCategory', fontsize=12)\n",
    "        ax.set_ylabel('Percentage\\n', fontsize=12)\n",
    "        ax.set_ylim([0, 100])\n",
    "        ax.set_title('Type of production across farm size\\n', fontsize=12)\n",
    "        \n",
    "    elif how is 'cumsum':\n",
    "        ax.set_xlabel('\\nFarm Sizes (ha)', fontsize=12)\n",
    "        ax.set_ylabel('Percentage\\n', fontsize=12)\n",
    "        ax.set_title('Type of production per farm size: Cumulative\\n', fontsize=12)\n",
    "    \n",
    "#     plt.savefig('/Users/Vinny_Ricciardi/Desktop/ffo_across.png', dpi=1000, bbox_inches='tight')\n",
    "    if fig_ is True:\n",
    "        return plt.show()\n",
    "\n",
    "    else:\n",
    "        return ax"
   ]
  },
  {
   "cell_type": "code",
   "execution_count": 99,
   "metadata": {
    "code_folding": [],
    "collapsed": true
   },
   "outputs": [],
   "source": [
    "def factor_plot(data, id_var='Farm_Sizes', use_predicted=use_predicted):\n",
    "    \n",
    "    data = pd.melt(data, id_vars='Farm_Sizes')\n",
    "    data = data.loc[data['value'] > 0.5] \n",
    "    data['log'] = np.log(data['value'])\n",
    "    \n",
    "    if use_predicted is False:\n",
    "\n",
    "        fs_order = ['(0, 1]', '(1, 2]', '(2, 5]', '(5, 10]', \n",
    "                    '(10, 20]', '(20, 50]', '(50, 100]', '(100, 200]', '(200, 500]',\n",
    "                    '(500, 1000]', '(1000, 100000]']\n",
    "    \n",
    "    else: \n",
    "        \n",
    "        fs_order = ['(0, 2]', '(2, 5]', '(5, 10]', \n",
    "                    '(10, 20]', '(20, 50]', '(50, 100]', '(100, 100000]']\n",
    "\n",
    "\n",
    "    if id_var is 'Farm_Sizes':\n",
    "        \n",
    "        col = 'variable'\n",
    "        x = 'Farm_Sizes'\n",
    "        y = 'log'\n",
    "        order = fs_order\n",
    "\n",
    "    else:\n",
    "        \n",
    "        data = data.sort_values('Farm_Sizes')\n",
    "        data['Farm_Sizes'] = pd.Categorical(data['Farm_Sizes'], fs_order)\n",
    "        data = data.sort_values('Farm_Sizes')\n",
    "        col = 'Farm_Sizes'\n",
    "        x = 'variable'\n",
    "        y = 'log'\n",
    "        order = None\n",
    "\n",
    "    g = sns.factorplot(x=x, y=y,\n",
    "                       col=col, \n",
    "                       data=data,\n",
    "                       kind='box',\n",
    "                       col_wrap=4,\n",
    "                       color='#55a868',\n",
    "                       fliersize=1,\n",
    "                       aspect = 1,\n",
    "                       order=order)\n",
    "\n",
    "    g.fig.subplots_adjust(wspace=0.2, hspace=0.3)\n",
    "\n",
    "    titles = data.variable.unique()\n",
    "    \n",
    "    fs_txt = ['< 1', '1 to 2', '2 to 5', '5 to 10', '10 to 20',\n",
    "              '20 to 50', '50 to 100', '100 to 200', '200 to 500',\n",
    "              '500 to 1000', '> 1000']\n",
    "    \n",
    "    if id_var is 'Farm_Sizes':\n",
    "        \n",
    "        for ax, title in zip(g.axes.flat, titles):\n",
    "            \n",
    "            ax.set_title(title)\n",
    "            ax.set_ylabel('Production \\n ln (kcal)')\n",
    "            ax.set_xticklabels(fs_txt)\n",
    "            ax.set_xticklabels(ax.xaxis.get_majorticklabels(), rotation=45)\n",
    "            ax.set_xlabel('\\nFarm Sizes (ha)')\n",
    "        \n",
    "    else:\n",
    "        \n",
    "        for ax, title in zip(g.axes.flat, fs_txt):\n",
    "            \n",
    "            ax.set_title(title)\n",
    "            ax.set_ylabel('Production \\n ln (kcal)')\n",
    "            ax.set_xticklabels(ax.xaxis.get_majorticklabels(), rotation=45)\n",
    "            ax.set_xlabel('\\nPoduction Category')"
   ]
  },
  {
   "cell_type": "code",
   "execution_count": 100,
   "metadata": {},
   "outputs": [
    {
     "data": {
      "image/png": "[encoded data removed]",
      "text/plain": [
       "<matplotlib.figure.Figure at 0x108d11d90>"
      ]
     },
     "metadata": {},
     "output_type": "display_data"
    }
   ],
   "source": [
    "plot_stacked_bar(df_across, how='across', fig_=True)"
   ]
  },
  {
   "cell_type": "markdown",
   "metadata": {
    "variables": {
     "under_fifty": "63.4",
     "under_two": "31.7"
    }
   },
   "source": [
    "This plot also shows the percentage that each farm size contributes to each category but in cumulative percentages. For example, farms under 2 ha produce {{under_two}}% of the total food supply in our sample and farms 50 ha and under produce {{under_fifty}}% of the total food supply in our sample. Again, here is a [link](../pivottablejs) to an interactive pivot table so you can explore the data in more detail."
   ]
  },
  {
   "cell_type": "code",
   "execution_count": 101,
   "metadata": {},
   "outputs": [
    {
     "data": {
      "image/png": "[encoded data removed]",
      "text/plain": [
       "<matplotlib.figure.Figure at 0x10c29fc50>"
      ]
     },
     "metadata": {},
     "output_type": "display_data"
    }
   ],
   "source": [
    "plot_stacked_bar(df_cumsum, how='cumsum', fig_=True)"
   ]
  },
  {
   "cell_type": "markdown",
   "metadata": {},
   "source": [
    "In order to better understand whether there are differences between the farm size groups, these box plots show the total amount of crops produced (in logged kcal for standardization). Across all production categories (e.g., food, feed, other, etc.) there are no visual differences in the means and confidence intervals. But, there are many of outliers in each plot that indicate high variance."
   ]
  },
  {
   "cell_type": "code",
   "execution_count": 102,
   "metadata": {},
   "outputs": [
    {
     "data": {
      "image/png": "[encoded data removed]",
      "text/plain": [
       "<matplotlib.figure.Figure at 0x109873410>"
      ]
     },
     "metadata": {},
     "output_type": "display_data"
    }
   ],
   "source": [
    "factor_plot(df, id_var='Farm_Sizes')"
   ]
  },
  {
   "cell_type": "markdown",
   "metadata": {},
   "source": [
    "Since many of the plots have large variance and skewness, here are density plots comparing farm size classes per each category. We can see that the largest farm size group has different distributions from the remaining groups."
   ]
  },
  {
   "cell_type": "code",
   "execution_count": 103,
   "metadata": {},
   "outputs": [
    {
     "data": {
      "image/png": "[encoded data removed]",
      "text/plain": [
       "<matplotlib.figure.Figure at 0x108fd7350>"
      ]
     },
     "metadata": {},
     "output_type": "display_data"
    }
   ],
   "source": [
    "colors_ = ['#97d6b9',\n",
    "           '#73c8bd',\n",
    "           '#52bcc2',\n",
    "           '#37acc3',\n",
    "           '#2498c1',\n",
    "           '#1f80b8',\n",
    "           '#2165ab',\n",
    "           '#234da0',\n",
    "           '#253795',\n",
    "           '#172978',\n",
    "           '#081d58']\n",
    "\n",
    "tmp = df.copy()\n",
    "tmp = pd.melt(tmp, id_vars='Farm_Sizes')\n",
    "tmp = tmp.dropna()\n",
    "cols = np.sort(tmp['variable'].unique())\n",
    "\n",
    "if use_predicted is False:\n",
    "    fs = ['(0, 1]', '(1, 2]', '(2, 5]', '(5, 10]', \n",
    "          '(10, 20]', '(20, 50]', '(50, 100]', \n",
    "          '(100, 200]', '(200, 500]', '(500, 1000]', \n",
    "          '(1000, 100000]']\n",
    "\n",
    "else:\n",
    "    fs = ['(0, 2]', '(2, 5]', '(5, 10]', \n",
    "          '(10, 20]', '(20, 50]', '(50, 100]', \n",
    "          '(100, 100000]']\n",
    "\n",
    "\n",
    "fig = plt.figure(figsize=[15, 6])\n",
    "\n",
    "for j in xrange(len(cols)):\n",
    "    \n",
    "    ax = fig.add_subplot(2, 4, j+1)\n",
    "    ax.set_axis_bgcolor(\"#d6d7e5\")\n",
    "    ax.grid(alpha=0.0)\n",
    "\n",
    "    tmp1 = tmp.loc[tmp['variable'] == cols[j]]\n",
    "\n",
    "    for i in xrange(len(fs)):\n",
    "\n",
    "        tmp2 = tmp1.loc[tmp1['Farm_Sizes'] == fs[i]]\n",
    "        np.log(tmp2['value']).plot(kind='kde', \n",
    "                                   label=fs[i][1:-1] + ' ha',\n",
    "                                   color=colors_[i],\n",
    "                                   ax=ax)\n",
    "        \n",
    "    ax.set_title(cols[j], fontsize=16)\n",
    "    ax.set_ylabel('Density', fontsize=16)\n",
    "    \n",
    "legend = ax.legend(frameon=True, fontsize=12)\n",
    "handles, labels = ax.get_legend_handles_labels()\n",
    "legend = ax.legend(handles[::-1], labels[::-1],\n",
    "                   loc='center left',\n",
    "                   frameon=1,\n",
    "                   bbox_to_anchor=(1, 0.5))\n",
    "frame = legend.get_frame()\n",
    "frame.set_color('#ffffff')\n",
    "\n",
    "plt.tight_layout()\n",
    "plt.show()"
   ]
  },
  {
   "cell_type": "markdown",
   "metadata": {
    "variables": {
     "number_countries": "55",
     "number_records": "243274"
    }
   },
   "source": [
    "Since our sample is very large ({{number_countries}} countries which comprise of {{number_records}} total records due to subnational units and crop types) we cannot use p-values to determine significance between the amount of production by varying farm sizes.<br><br>\n",
    "To circumvent the large dataset issue, the effect size was used to determine differences between farm sizes rather than statistical significance. Cohen's d was calculated via taking the (mean of farmsize 1 - mean of farmsize 2) / (standard deviation of farmsize 1) then taking the absolute value. The relative significance was calculated by thresholds according to [Sullivan and Feinn 2012](https://www.ncbi.nlm.nih.gov/pmc/articles/PMC3444174/).\n",
    "\n",
    "Where the Cohen d's effect size values correspond to percent non-overlapping observations, as in:\n",
    "\n",
    "\n",
    "| **Relative Size** | **Effect Size**| **Percentile**| **% of Non-overlap**|\n",
    "|---------------\t|:-------------:|:-----------:\t|:-------------------:\t|\n",
    "|               \t|      0      \t|     50    \t|         0         \t|\n",
    "| Small         \t|     0.2     \t|     58    \t|         15        \t|\n",
    "| Medium        \t|     0.5     \t|     69    \t|         33        \t|\n",
    "| Large         \t|     0.8     \t|     79    \t|         47        \t|\n",
    "|               \t|     1.0     \t|     84    \t|         55        \t|\n",
    "|               \t|     1.5     \t|     93    \t|         71        \t|\n",
    "|               \t|     2.0     \t|     97    \t|         81        \t|"
   ]
  },
  {
   "cell_type": "code",
   "execution_count": 104,
   "metadata": {
    "code_folding": [
     0
    ],
    "collapsed": true
   },
   "outputs": [],
   "source": [
    "def cohens_d(data1, data2, how='within'):\n",
    "\n",
    "    cols = data1.columns\n",
    "    check = []\n",
    "    \n",
    "    for i in xrange(0, len(cols)):\n",
    "        \n",
    "        for j in xrange(1, len(cols)):\n",
    "            \n",
    "            col_name = str(cols[i]) + '_' + str(cols[j])\n",
    "            col_name_r = str(cols[j]) + '_' + str(cols[i])\n",
    "\n",
    "            if col_name in check:\n",
    "                \n",
    "                pass\n",
    "\n",
    "            elif cols[i] is cols[j]:\n",
    "                \n",
    "                pass\n",
    "\n",
    "            else:\n",
    "                \n",
    "                pass\n",
    "                \n",
    "            data1[col_name] = ((data1[cols[i]] - data1[cols[j]]) / data2[cols[i]]).abs() \n",
    "                                #np.sqrt(data2[cols[i]]**2 + data2[cols[j]]**2)).abs()  # if want to change cohens d\n",
    "            check.append(col_name)\n",
    "            check.append(col_name_r)\n",
    "\n",
    "\n",
    "    data = data1.iloc[:, len(cols):]\n",
    "\n",
    "    data = data.reset_index()\n",
    "\n",
    "    if how is 'across':\n",
    "        \n",
    "        data = pd.melt(data, id_vars='index', value_name='cohens_d')\n",
    "        \n",
    "    elif how is 'within':\n",
    "        \n",
    "        data = data.transpose()\n",
    "        data = data.reset_index()\n",
    "        data = data.iloc[:, :-1]\n",
    "        cols = list(data1.transpose().columns[:-1])\n",
    "        cols.insert(0, 'Category')\n",
    "        data.columns = cols\n",
    "        data = data.iloc[1:, :]\n",
    "        data = pd.melt(data, id_vars='Category', value_name='cohens_d')\n",
    "\n",
    "    else:\n",
    "        print 'Check how arg'\n",
    "        \n",
    "    data['cohens_d_level'] = np.where(data['cohens_d'] <= 0.2, 'small',\n",
    "                                      np.where(data['cohens_d'] >= 0.8, 'large',\n",
    "                                               'medium'))\n",
    "\n",
    "    return data"
   ]
  },
  {
   "cell_type": "markdown",
   "metadata": {},
   "source": [
    "<a name=\"Large_fs_data_issue\"></a>\n",
    "Here are the biggest differences between farm size groups. As expected, there are large coefficients (effect size) between small and large farm classes. Note, the largest farm size class (> 1000 ha had minimal data points, which seemed to cause distributions were very different than the other classes. For now, this class was omitted in the below results)."
   ]
  },
  {
   "cell_type": "code",
   "execution_count": 105,
   "metadata": {
    "code_folding": [
     0,
     70,
     114,
     127
    ],
    "collapsed": true
   },
   "outputs": [],
   "source": [
    "def plot_cohensd_heatmap(data, ax=None, use_predicted=use_predicted):\n",
    "    \n",
    "    if use_predicted is False:\n",
    "\n",
    "        fs = ['0, 1',\n",
    "              '1, 2',\n",
    "              '2, 5',\n",
    "              '5, 10',\n",
    "              '10, 20',\n",
    "              '20, 50',\n",
    "              '50, 100',\n",
    "              '100, 200',\n",
    "              '200, 500',\n",
    "              '500, 1000',\n",
    "              '1000, 100000']\n",
    "    \n",
    "    else:\n",
    "        \n",
    "        fs = ['0, 2',\n",
    "              '2, 5',\n",
    "              '5, 10',\n",
    "              '10, 20',\n",
    "              '20, 50',\n",
    "              '50, 100',\n",
    "              '100, 100000']\n",
    "\n",
    "    \n",
    "    cats = ['Food', 'Other', 'Processing', 'Seed', 'Waste']\n",
    "\n",
    "    hm = data.copy()\n",
    "    hm = hm.loc[:, ['fs1', 'fs2', 'Cohens d']]\n",
    "    hm2 = hm.loc[:, ['fs2', 'fs1', 'Cohens d']]\n",
    "    hm2.columns = hm.columns\n",
    "    hm = pd.concat([hm, hm2])\n",
    "\n",
    "    hm['fs1'] = hm['fs1'].str.replace('(', '')\n",
    "    hm['fs1'] = hm['fs1'].str.replace(')', '')\n",
    "    hm['fs2'] = hm['fs2'].str.replace('(', '')\n",
    "    hm['fs2'] = hm['fs2'].str.replace(')', '')\n",
    "    hm = hm.dropna()\n",
    "    hm['Cohens d'] = hm['Cohens d'].astype(float)\n",
    "    \n",
    "    hm = pd.pivot_table(hm, \n",
    "                        index=['fs1'], \n",
    "                        columns=['fs2'], \n",
    "                        values='Cohens d', \n",
    "                        fill_value=0., \n",
    "                        aggfunc=np.nanmean)\n",
    "\n",
    "    try:\n",
    "        \n",
    "        hm = hm.loc[:, fs]\n",
    "        hm = hm.reset_index()\n",
    "        hm['fs1'] = pd.Categorical(hm['fs1'], fs)\n",
    "        \n",
    "    except:\n",
    "        \n",
    "        hm = hm.loc[:, cats]\n",
    "        hm = hm.reset_index()\n",
    "        hm['fs1'] = pd.Categorical(hm['fs1'], cats)\n",
    "\n",
    "    hm = hm.sort_values('fs1')\n",
    "    hm = hm.set_index('fs1')\n",
    "    hm = hm.iloc[1:, :]\n",
    "  \n",
    "    sns.heatmap(hm, cmap=cm.get_cmap('BuPu'), ax=ax);\n",
    "    ax.set_xticklabels(ax.xaxis.get_majorticklabels(), rotation=45);\n",
    "    ax.set(xlabel='', ylabel='');\n",
    "\n",
    "    \n",
    "def plot_cohensd_barplot(data, ax=None, how='across', use_predicted=use_predicted):\n",
    "    \n",
    "    if use_predicted is False:\n",
    "\n",
    "        fs = ['(1, 2)',\n",
    "              '(2, 5)',\n",
    "              '(5, 10)',\n",
    "              '(10, 20)',\n",
    "              '(20, 50)',\n",
    "              '(50, 100)',\n",
    "              '(100, 200)',\n",
    "              '(200, 500)',\n",
    "              '(500, 1000)']\n",
    "    else:\n",
    "    \n",
    "        fs = ['(0, 2)',\n",
    "              '(2, 5)',\n",
    "              '(5, 10)',\n",
    "              '(10, 20)',\n",
    "              '(20, 50)',\n",
    "              '(50, 100)',\n",
    "              '(100, 100000)']\n",
    "\n",
    "        \n",
    "    if how is 'across':\n",
    "\n",
    "        t = pd.pivot_table(data, index=['Category'], values='Cohens d', aggfunc=np.sum)\n",
    "        t = t.reset_index()\n",
    "        t = t.sort_values('Cohens d', ascending=False)\n",
    "        order = t['Category'].unique()\n",
    "        sns.barplot(data['Category'], data['Cohens d'], order=order, color='#94D3CA', errcolor='grey', ax=ax);\n",
    "\n",
    "    else:\n",
    "        \n",
    "        t = pd.pivot_table(data, index=['Farm_Sizes'], values='Cohens d', aggfunc=np.sum)\n",
    "        t = t.reset_index()\n",
    "        t = t.sort_values('Cohens d', ascending=False)\n",
    "        order = t['Farm_Sizes'].unique()\n",
    "        sns.barplot(data['Farm_Sizes'], data['Cohens d'], order=order, color='#94D3CA',  errcolor='grey', ax=ax);\n",
    "        \n",
    "    ax.set_xticklabels(ax.xaxis.get_majorticklabels(), rotation=45);\n",
    "    ax.set(xlabel='', ylabel='Cohens d');\n",
    "\n",
    "    \n",
    "def plot_cohens_all(data, how='across',use_predicted=use_predicted):\n",
    "\n",
    "    fig = plt.figure(figsize=[15,5])\n",
    "    ax1 = fig.add_subplot(121)\n",
    "    ax2 = fig.add_subplot(122)\n",
    "    plot_cohensd_heatmap(data, ax=ax1);\n",
    "    plot_cohensd_barplot(data, how=how, ax=ax2);\n",
    "    ax1.set_title(\"Pairwise effect size\\n\", fontsize=14);\n",
    "    ax2.set_title(\"Mean effect size per grouping\\n\", fontsize=14);\n",
    "    \n",
    "    return plt.show()\n",
    "    \n",
    "    \n",
    "def cohens_full_func(data, how='across'):\n",
    "\n",
    "    data = data.loc[data['Farm_Sizes'] != '(1000, 100000]']\n",
    "    data['Farm_Sizes'] = data['Farm_Sizes'].astype(str)\n",
    "\n",
    "    means = pd.pivot_table(data, columns='Farm_Sizes', aggfunc=np.nanmean)\n",
    "    sds = pd.pivot_table(data, columns='Farm_Sizes', aggfunc=np.nanstd)\n",
    "\n",
    "    if how is 'across':\n",
    "        \n",
    "        tmp = cohens_d(means, sds, how=how)\n",
    "        tmp['Farm_Sizes'] = tmp['Farm_Sizes'].str.replace(']', ')')\n",
    "        tmp['Farm_Sizes'] = tmp['Farm_Sizes'].str.replace('_', ' and ')\n",
    "        tmp.columns = ['Category', 'Farm sizes compared', 'Cohens d', 'Relative effect size']\n",
    "        tmp = tmp.sort_values('Cohens d', ascending=False)\n",
    "        t = tmp['Farm sizes compared'].str.split(' and ', expand=True)\n",
    "        t.columns = ['fs1', 'fs2']\n",
    "        tmp = pd.concat([tmp, t], axis=1) \n",
    "\n",
    "    else:\n",
    "        \n",
    "        means = means.transpose()\n",
    "        sds = sds.transpose()\n",
    "        tmp = cohens_d(means, sds, how=how)\n",
    "        tmp.columns = ['Category', 'Farm_Sizes', 'Cohens d', 'Relative effect size']\n",
    "        tmp = tmp.sort_values('Cohens d', ascending=False)\n",
    "        t = tmp['Category'].str.split('_', expand=True)\n",
    "        t.columns = ['fs1', 'fs2']\n",
    "        tmp = pd.concat([tmp, t], axis=1) \n",
    "\n",
    "    \n",
    "    return plot_cohens_all(tmp, how=how, use_predicted=use_predicted)"
   ]
  },
  {
   "cell_type": "markdown",
   "metadata": {},
   "source": [
    "On average, the largest effect size (differences) between farm sizes were in the seed and processing categories. The 100 to 200 ha class had the greatest differences between their contributions to each food, feed, other category compared to other farm size classes contributions. Below is a heatmap (left) of the Cohen's D per each farm size class pair, where darker purple indicates a greater effect size. The chart to the right shows the effect size estimates for each production category; the error bars indicate the spread of effect sizes for every farm size class pair."
   ]
  },
  {
   "cell_type": "code",
   "execution_count": 106,
   "metadata": {},
   "outputs": [
    {
     "data": {
      "image/png": "[encoded data removed]",
      "text/plain": [
       "<matplotlib.figure.Figure at 0x109299dd0>"
      ]
     },
     "metadata": {},
     "output_type": "display_data"
    }
   ],
   "source": [
    "cohens_full_func(df, how='across')"
   ]
  },
  {
   "cell_type": "markdown",
   "metadata": {},
   "source": [
    "<a name=\"FoodFeedOtherWithin\"></a>\n",
    "<h2>Food Feed Other within Farm Size Groups</h2><br>"
   ]
  },
  {
   "cell_type": "markdown",
   "metadata": {
    "variables": {
     "one_food": "58.1",
     "one_waste": "3.6"
    }
   },
   "source": [
    "This plot shows the percentage of Food, Feed, Seed, Waste, Processing, and Other for each farm size category. For example, {{one_food}} % of the crops produced for farms under 1 ha is food, while {{one_waste}}% of their crop production is waste."
   ]
  },
  {
   "cell_type": "code",
   "execution_count": 107,
   "metadata": {},
   "outputs": [
    {
     "data": {
      "image/png": "[encoded data removed]",
      "text/plain": [
       "<matplotlib.figure.Figure at 0x109aecd50>"
      ]
     },
     "metadata": {},
     "output_type": "display_data"
    }
   ],
   "source": [
    "plot_stacked_bar(df_within, how='within', fig_=True)"
   ]
  },
  {
   "cell_type": "markdown",
   "metadata": {},
   "source": [
    "In order to better understand whether there are differences within how a given farm size group allocates their crop production, these box plots show the total amount of crops produced (in logged kcal for standardization). As in the previous analysis, across all farm size categories there are no visual differences in the means and confidence intervals. But, there are many of outliers in each plot that indicate high variance."
   ]
  },
  {
   "cell_type": "code",
   "execution_count": null,
   "metadata": {
    "scrolled": false
   },
   "outputs": [
    {
     "data": {
      "image/png": "[encoded data removed]",
      "text/plain": [
       "<matplotlib.figure.Figure at 0x1092a7450>"
      ]
     },
     "metadata": {},
     "output_type": "display_data"
    }
   ],
   "source": [
    "factor_plot(df, id_var='variable')"
   ]
  },
  {
   "cell_type": "markdown",
   "metadata": {},
   "source": [
    "Since many of the plots have large variance and skewness, here are density plots comparing farm size classes per each category. We can see that the largest farm size group has different distributions from the remaining groups."
   ]
  },
  {
   "cell_type": "code",
   "execution_count": null,
   "metadata": {
    "code_folding": [],
    "collapsed": true
   },
   "outputs": [],
   "source": [
    "tmp = df.copy()\n",
    "\n",
    "if use_predicted is False:\n",
    "\n",
    "    fs = ['(0, 1]', '(1, 2]', '(2, 5]', '(5, 10]', \n",
    "          '(10, 20]', '(20, 50]', '(50, 100]', \n",
    "          '(100, 200]', '(200, 500]', '(500, 1000]', \n",
    "          '(1000, 100000]']\n",
    "\n",
    "else:\n",
    "    \n",
    "    fs = ['(0, 2]', '(2, 5]', '(5, 10]', \n",
    "          '(10, 20]', '(20, 50]', '(50, 100]', \n",
    "          '(100, 100000]']\n",
    "\n",
    "    \n",
    "tmp = tmp.dropna()\n",
    "cols = tmp.columns\n",
    "\n",
    "cmap = cm.get_cmap('viridis', 7)    # Set3 and YlGnBu are used throughout\n",
    "colors_ = []\n",
    "\n",
    "for i in range(cmap.N):\n",
    "    rgb = cmap(i)[:3] # will return rgba, we take only first 3 so we get rgb\n",
    "    colors_.append(colors.rgb2hex(rgb))\n",
    "\n",
    "\n",
    "fig = plt.figure(figsize=[20,15])\n",
    "\n",
    "for j in xrange(len(fs)):\n",
    "    \n",
    "    tmp1 = tmp.loc[tmp['Farm_Sizes'] == fs[j]]\n",
    "\n",
    "    ax = fig.add_subplot(4, 4, j+1)\n",
    "    ax.set_axis_bgcolor(\"#d6d7e5\")\n",
    "    ax.grid(alpha=0.0)\n",
    "\n",
    "    for i in xrange(1, len(cols)):\n",
    "        np.log(tmp1[cols[i]]).plot(kind='kde', \n",
    "                                   label=cols[i],\n",
    "                                   color=colors_[i],\n",
    "                                   linewidth=2,\n",
    "                                   ax=ax)\n",
    "    \n",
    "    ax.set_title(fs[j][1:-1] + ' ha', fontsize=16)\n",
    "    ax.set_ylabel('Density', fontsize=14)\n",
    "\n",
    "\n",
    "legend = ax.legend(frameon=True, fontsize=12)\n",
    "handles, labels = ax.get_legend_handles_labels()\n",
    "legend = ax.legend(handles[::-1], labels[::-1],\n",
    "                   loc='center left',\n",
    "                   frameon=1,\n",
    "                   bbox_to_anchor=(1, 0.5))\n",
    "\n",
    "plt.tight_layout()\n",
    "plt.show()"
   ]
  },
  {
   "cell_type": "markdown",
   "metadata": {},
   "source": [
    "We calculated the effect size for the differences within each farm size group, but across production categories (e.g., food, feed, other).\n",
    "There were only medium differences in effect size when looking at how each farm size group allocated their production. Most of the differences were between food and the other categories. Below is a heatmap (left) of the Cohen's D per each farm size class pair, where darker purple indicates a greater effect size. The chart to the right shows the effect size estimates for each production category; the error bars indicate the spread of effect sizes for every farm size class pair."
   ]
  },
  {
   "cell_type": "code",
   "execution_count": null,
   "metadata": {
    "collapsed": true
   },
   "outputs": [],
   "source": [
    "cohens_full_func(df, how='within')"
   ]
  },
  {
   "cell_type": "markdown",
   "metadata": {},
   "source": [
    "### Putting across and within findings together"
   ]
  },
  {
   "cell_type": "code",
   "execution_count": null,
   "metadata": {
    "collapsed": true
   },
   "outputs": [],
   "source": [
    "tmp = df_across.reindex().transpose().loc[:,['Food', 'Feed', 'Processing', 'Other', 'Seed', 'Waste']]\n",
    "tmp2 = df_within.loc[:,['Food', 'Feed', 'Processing', 'Other', 'Seed', 'Waste']]\n",
    "tmp3 = 100 * tmp * tmp2\n",
    "\n",
    "fig = plt.figure(figsize=[10,7])\n",
    "ax = fig.add_subplot(111)\n",
    "tmp3.plot(kind='bar',\n",
    "          stacked=True,\n",
    "          cmap=ListedColormap(sns.color_palette('muted', n_colors=6).as_hex()),\n",
    "          alpha=0.9,\n",
    "          linewidth=0,\n",
    "          grid=False,\n",
    "          ax=ax)\n",
    "\n",
    "\n",
    "ax.set_xticklabels([x.get_text()[1:-1] for x in ax.get_xticklabels()], rotation=45)\n",
    "ax.set_yticks(np.arange(0, 21, 3))\n",
    "ax.tick_params(axis='both', which='major', labelsize=16)\n",
    "\n",
    "ax.set_title('Production type across farm sizes\\n', fontsize=20)\n",
    "ax.set_xlabel('Farm Size (ha)', fontsize=18)\n",
    "ax.set_ylabel('Percentage\\n', fontsize=18)\n",
    "h,l = ax.get_legend_handles_labels()\n",
    "h = reversed(h)\n",
    "l = reversed(l)\n",
    "ax.legend(h, l, frameon=False, loc=[0.9, 0.6], fontsize=18)\n",
    "ax.spines['top'].set_visible(False)\n",
    "ax.spines['right'].set_visible(False)\n",
    "\n",
    "fig.savefig('/Users/Vinny_Ricciardi/Desktop/ffo_all.png', dpi=1000, bbox_inches='tight')\n",
    "\n",
    "plt.show()"
   ]
  },
  {
   "cell_type": "markdown",
   "metadata": {},
   "source": [
    "<a name=\"GlobalEstimates\"></a>\n",
    "<h2>Global Estimates</h2><br>"
   ]
  },
  {
   "cell_type": "markdown",
   "metadata": {},
   "source": [
    "To construct a global estimate based on our sample, we first resampled using the Jacknife and bootstrapping techniques.\n",
    "\n",
    "**Jacknife:**\n",
    "We calculated the total food production while iteratively subsetting each country. Then we take the mean and confidence intervals for each farm size class. The Jacknife resampling technique allows us to understand the error and bias in our results and construct confidence intervals around that bias.\n",
    "\n",
    "**Bootstrap:**\n",
    "To achieve 95% confidence intervals around our sample estimates, we bootstrapped the data with the accelerated bias-corrected percentile limits method for 1000 iterations. This bootstrapping method is non-parametric and uses the proportion of resampled values that fall above the non-resampled mean to estimate the population distribution (Manly, 2006)⁠. The natural log of food production was used for the bootstrap procedure, since the distribution was near log-normal.\n",
    "\n",
    "**Main difference:**\n",
    "The Jacknife resulted in narrower confidence intervals mainly because of the variable's distribution, hence the non-parametric bootstrapping method used (accelerated bias-corrected percentile limits method) to give more conservative estimates on production ranges per farm size class and to account for any non-normal distributions."
   ]
  },
  {
   "cell_type": "markdown",
   "metadata": {},
   "source": [
    "<a name=\"Jacknife\"></a>\n",
    "<h3>Jacknife Estimates Across Farm Sizes</h3>"
   ]
  },
  {
   "cell_type": "code",
   "execution_count": null,
   "metadata": {
    "code_folding": [],
    "collapsed": true
   },
   "outputs": [],
   "source": [
    "# For this section, any time there is 'Food' in a variable it was replaced with\n",
    "# Feed, Processing, Seed, or Other to calculate the appropriate values.\n",
    "# For this section the predicted values can be incoprpoated via the 'use_predicted' variable\n",
    "# that is set in the begining of this notebook. This can be directly set in this section if needed\n",
    "# by decalring a new 'use_predicted' as True/False here.\n",
    "\n",
    "def jacknife_prep(path, how='under1', use_predicted=use_predicted, \n",
    "                  predict_how=None, variable='production_Food_kcal', region=None):\n",
    "    \n",
    "    try:\n",
    "        fao_regions = pd.read_csv('/home/vinny_ricciardi/Documents/Data_Library_SSD/Survey/Global/Farm_Size/Data/FAO_FoodBalance/FAO_regional_lookup.csv')\n",
    "    except:\n",
    "        fao_regions = pd.read_csv('/Users/Vinny_Ricciardi/Documents/Data_Library_Big/Survey/Global/Farm_Size/Data/FAO_FoodBalance/FAO_regional_lookup.csv')\n",
    "    \n",
    "    if use_predicted is False:\n",
    "        \n",
    "        data = pd.read_csv(PATH, low_memory=False)\n",
    "        data['fs_class_max'] = np.where(data['fs_class_max'].isnull(), 10000, data['fs_class_max'])\n",
    "        data['production_kcal'] = data['Production_fix']\n",
    "        data = data.replace(0.0, np.nan)  # there were many zero values\n",
    "        \n",
    "        if region is not None:\n",
    "            \n",
    "            data = pd.merge(data, fao_regions, left_on='NAME_0', right_on='Country', how='inner')\n",
    "            data = data.loc[data['Country Group'] == region]\n",
    "            \n",
    "        else:\n",
    "            pass\n",
    "        \n",
    "            \n",
    "        if how is 'under2':\n",
    "\n",
    "            data['Farm_Sizes'] = pd.cut(data['fs_class_max'],\n",
    "                                        bins=[0, 2, 5, 10, 20, 50,\n",
    "                                              100, 200, 500, 1000, 100000])\n",
    "\n",
    "            fs_order = ['(0, 2]', '(2, 5]', '(5, 10]', '(10, 20]', \n",
    "                        '(20, 50]', '(50, 100]', '(100, 200]', '(200, 500]',\n",
    "                        '(500, 1000]', '(1000, 100000]']\n",
    "\n",
    "            fs_txt = ['< 2', '2 to 5', '5 to 10', '10 to 20',\n",
    "                      '20 to 50', '50 to 100', '100 to 200', '200 to 500',\n",
    "                      '500 to 1000', '> 1000']\n",
    "\n",
    "        else:\n",
    "\n",
    "            data['Farm_Sizes'] = pd.cut(data['fs_class_max'],\n",
    "                                            bins=[0, 1, 2, 5, 10, 20, 50,\n",
    "                                                  100, 200, 500, 1000, 100000])\n",
    "\n",
    "            fs_order = ['(0, 1]', '(1, 2]', '(2, 5]', '(5, 10]', \n",
    "                        '(10, 20]', '(20, 50]', '(50, 100]', '(100, 200]', '(200, 500]',\n",
    "                        '(500, 1000]', '(1000, 100000]']\n",
    "\n",
    "            fs_txt = ['< 1', '1 to 2', '2 to 5', '5 to 10', '10 to 20',\n",
    "                      '20 to 50', '50 to 100', '100 to 200', '200 to 500',\n",
    "                      '500 to 1000', '> 1000']\n",
    "\n",
    "    else:\n",
    "        \n",
    "        if predict_how is None:\n",
    "            \n",
    "            \"Need predict_how when using predicted values: 'means', 'actual'\"\n",
    "            \n",
    "        elif predict_how is 'actual':\n",
    "            \n",
    "            data = read_data_init(PATH, use_predicted=True)\n",
    "            \n",
    "            if region is not None:\n",
    "                \n",
    "                data = pd.merge(data, fao_regions, left_on='NAME_0', right_on='Country', how='inner')\n",
    "                data = data.loc[data['Country Group'] == region]\n",
    "\n",
    "            else:\n",
    "                pass\n",
    "\n",
    "        \n",
    "        else:\n",
    "\n",
    "            data = join_predicted(PATH, \n",
    "                                  use_predicted=True, \n",
    "                                  predict_how=predict_how)\n",
    "            \n",
    "            if region is not None:\n",
    "            \n",
    "                data = pd.merge(data, fao_regions, left_on='NAME_0', right_on='Country', how='inner')\n",
    "                data = data.loc[data['Country Group'] == region]\n",
    "\n",
    "            else:\n",
    "                pass\n",
    "\n",
    "\n",
    "        fs_order = ['(0, 2]', '(2, 5]', '(5, 10]', \n",
    "                    '(10, 20]', '(20, 50]', '(50, 100]', '(100, 100000]']\n",
    "\n",
    "        fs_txt = ['< 2','2 to 5', '5 to 10', '10 to 20',\n",
    "                  '20 to 50', '50 to 100', '> 100']\n",
    "\n",
    "    if type(variable) is str:\n",
    "\n",
    "        variables = ['NAME_0', 'Farm_Sizes', variable]\n",
    "    \n",
    "    else:\n",
    "        variables = ['NAME_0', 'Farm_Sizes'] + variable\n",
    "    \n",
    "    data['Farm_Sizes'] = data['Farm_Sizes'].astype(str)\n",
    "    data = data.loc[:, variables]\n",
    "    data = data.dropna()\n",
    "    \n",
    "    return data, fs_order, fs_txt"
   ]
  },
  {
   "cell_type": "code",
   "execution_count": null,
   "metadata": {
    "collapsed": true,
    "scrolled": false
   },
   "outputs": [],
   "source": [
    "data, fs_order, fs_txt = jacknife_prep(PATH, how='under1', \n",
    "                                       use_predicted=use_predicted, predict_how='means',\n",
    "                                       variable='production_Food_kcal')"
   ]
  },
  {
   "cell_type": "code",
   "execution_count": null,
   "metadata": {
    "code_folding": [
     0
    ],
    "collapsed": true
   },
   "outputs": [],
   "source": [
    "def jacknife(data, variable='production_Food_kcal'):\n",
    "    \n",
    "    dictionary = dict(zip(fs_order, range(0, len(fs_order))))  # used to circumvent categorical indexing\n",
    "    data['ix'] = data['Farm_Sizes'].map(dictionary)\n",
    "\n",
    "    out = pd.DataFrame(columns=['NAME_0', 'Farm_Sizes', 'ix'])\n",
    "    \n",
    "    fsize = []\n",
    "    ixs = []\n",
    "\n",
    "    for f, ix in zip(data['Farm_Sizes'].unique(), data['ix'].unique()):\n",
    "        \n",
    "        out2 = pd.DataFrame(columns=['NAME_0', 'Farm_Sizes', 'ix'])\n",
    "\n",
    "        tmp = data.loc[data['Farm_Sizes'] == f]\n",
    "\n",
    "        tmp = tmp.sort_values('ix')\n",
    "        \n",
    "        names = []\n",
    "        \n",
    "        for i in tmp.NAME_0.unique():\n",
    "            \n",
    "            tmp2 = tmp[tmp['NAME_0'] != i]\n",
    "\n",
    "            pivot = pd.pivot_table(tmp2, \n",
    "                                   index=['ix'],\n",
    "                                   values=variable, \n",
    "                                   aggfunc=np.nansum).reset_index()\n",
    "\n",
    "            pivot['NAME_0'] = i\n",
    "            pivot['Farm_Sizes'] = f\n",
    "            pivot['ix'] = ix\n",
    "            out2 = pd.concat([out2, pivot])\n",
    "            \n",
    "        out2['tot_mean'] = np.nanmean(out2[variable])\n",
    "        out2['mj_m_2'] = (out2[variable] - out2['tot_mean'])**2\n",
    "        out2['s'] = np.sqrt(np.nansum(out2['mj_m_2']) / float(len(tmp.NAME_0.unique()) - 1))\n",
    "        out2['se'] = out2['s'] / np.sqrt(len(tmp.NAME_0.unique()) - 1)\n",
    "        out2['ci_high'] = out2['tot_mean'] + (2.09 * out2['se'])  # 2.09 is the upper 0.25% of the t-distribution\n",
    "        out2['ci_low'] = out2['tot_mean'] - (2.09 * out2['se'])\n",
    "        \n",
    "        out = pd.concat([out, out2])\n",
    "    \n",
    "        out['country_mean'] = out[variable]\n",
    "    \n",
    "    out = out.drop(variable, 1)\n",
    "    out['country_mean_p'] = (out['country_mean'] / data[variable].sum())\n",
    "    out['country_ci_high_p'] = out['country_mean_p'] * np.mean(out['ci_high']/ out['tot_mean'])\n",
    "    out['country_ci_low_p'] = out['country_mean_p'] * np.mean(out['ci_low']/ out['tot_mean'])\n",
    "    out['fs_mean_p'] = (out['tot_mean'] / data[variable].sum())\n",
    "    out['fs_ci_high_p'] = out['fs_mean_p'] * np.mean(out['ci_high']/ out['tot_mean'])\n",
    "    out['fs_ci_low_p'] = out['fs_mean_p'] * np.mean(out['ci_low']/ out['tot_mean'])\n",
    "    \n",
    "    pivot = pd.pivot_table(out,\n",
    "                          index=['Farm_Sizes', 'ix'],\n",
    "                          values=['fs_mean_p', 'fs_ci_high_p', 'fs_ci_low_p']).reset_index()\n",
    "\n",
    "    pivot.columns = ['Farm_Sizes', 'ix', 'ci_high', 'ci_low', 'mean']\n",
    "\n",
    "    return out, pivot"
   ]
  },
  {
   "cell_type": "code",
   "execution_count": null,
   "metadata": {
    "collapsed": true
   },
   "outputs": [],
   "source": [
    "df_jk, prods = jacknife(data, variable='production_Food_kcal')"
   ]
  },
  {
   "cell_type": "markdown",
   "metadata": {},
   "source": [
    "This chart shows the results of the Jacknife sample. Each bar represents the range of food production by each farm size class."
   ]
  },
  {
   "cell_type": "code",
   "execution_count": null,
   "metadata": {
    "code_folding": [],
    "collapsed": true
   },
   "outputs": [],
   "source": [
    "def barplot_resample(data, title_insert='jacknife', ax=None, ffo_type='food'):\n",
    "    \n",
    "    prods = data.sort_values('ix')\n",
    "    yerr = np.c_[prods['mean'] - prods['ci_low'], prods['ci_high'] - prods['mean']].T\n",
    "\n",
    "    if ax is None:\n",
    "        fig = plt.figure(figsize=[10, 7])\n",
    "        ax = fig.add_subplot(111)\n",
    "    \n",
    "    else:\n",
    "        ax = ax\n",
    "    \n",
    "    ax.bar(range(len(prods['mean'])), 100*prods['mean'], \n",
    "            yerr=100*yerr,\n",
    "            color='#5C87D0',  # sns.color_palette('BuPu', 11)[-1],\n",
    "            error_kw=dict(ecolor='k',  #'gray', \n",
    "                          lw=4, \n",
    "                          capsize=2, \n",
    "                          capthick=1))\n",
    "\n",
    "    ax.set_axis_bgcolor(\"#ffffff\")\n",
    "    ax.grid(alpha=0.0)\n",
    "    ax.set_xticks(range(len(prods['mean'])))\n",
    "    ax.set_xticklabels(fs_txt, rotation=45)\n",
    "    ax.set_xlabel('Farm Sizes (ha)\\n', fontsize=18)\n",
    "    ax.set_ylabel('Percentage\\n'.format(ffo_type.lower()), fontsize=18)\n",
    "    ax.tick_params(axis='both', which='major', labelsize=16)\n",
    "    ax.set_title('Percent of {} (kcal) produced per farm size'.format(ffo_type.lower()), fontsize=20)\n",
    "#                  '\\nwith {} upper and lower bounds\\n'.format(ffo_type.lower(), title_insert))\n",
    "    ax.spines['top'].set_visible(False)\n",
    "    ax.spines['right'].set_visible(False)\n",
    "    \n",
    "    fig.savefig(\"/Users/Vinny_Ricciardi/Desktop/food_cumul.png\",\n",
    "                dpi=1000,\n",
    "                bbox_inches='tight', \n",
    "                transparent=True)\n",
    "    if ax is None:\n",
    "        plt.show()\n",
    "    \n",
    "    else:\n",
    "        return ax\n",
    "    \n",
    "    \n",
    "barplot_resample(prods, title_insert='jacknife');"
   ]
  },
  {
   "cell_type": "code",
   "execution_count": null,
   "metadata": {
    "code_folding": [],
    "collapsed": true
   },
   "outputs": [],
   "source": [
    "# def plot_ranges(data, variable='country_mean_p',\n",
    "#                 title='Jacknife distributions \\nacross farm size classes\\n'):\n",
    "\n",
    "#     fig = plt.figure(figsize=[8, 5])\n",
    "#     # fs = prods['Farm_Sizes'].unique()\n",
    "#     # fs = ['(0, 1]', '(1, 2]', '(2, 5]', '(5, 10]', \n",
    "#     #       '(10, 20]', '(20, 50]', '(50, 100]', '(100, 200]', '(200, 500]',\n",
    "#     #       '(500, 1000]', '(1000, 100000]']\n",
    "\n",
    "#     fs = ['(0, 2]', '(2, 5]', '(5, 10]', \n",
    "#           '(10, 20]', '(20, 50]', '(50, 100]', '(100, 200]', '(200, 500]',\n",
    "#           '(500, 1000]', '(1000, 100000]']\n",
    "\n",
    "#     colors_ = ['#97d6b9',\n",
    "#               '#73c8bd',\n",
    "#               '#52bcc2',\n",
    "#               '#37acc3',\n",
    "#               '#2498c1',\n",
    "#               '#1f80b8',\n",
    "#               '#2165ab',\n",
    "#               '#234da0',\n",
    "#               '#253795',\n",
    "#               '#172978',\n",
    "#               '#081d58'] \n",
    "\n",
    "#     ax = fig.add_subplot(111)\n",
    "\n",
    "#     for i in xrange(len(fs[:])): \n",
    "#         tmp = prods[prods['Farm_Sizes'] == fs[i]]\n",
    "#         label = fs[i][1:-1]\n",
    "#         tmp[variable].plot(kind='kde', label=label, color=colors_[i], ax=ax)\n",
    "\n",
    "#     legend = ax.legend(frameon=True, fontsize=12, loc='upper right')\n",
    "#     frame = legend.get_frame()\n",
    "#     frame.set_color('#d6d7e5')\n",
    "#     ax.set_axis_bgcolor(\"#d6d7e5\")\n",
    "#     ax.grid(alpha=0.0)\n",
    "#     ax.set_clip_on(False)\n",
    "#     ax.tick_params(axis='x', labelsize=12)\n",
    "#     ax.tick_params(axis='y', labelsize=12)\n",
    "#     ax.set_xlabel('\\nFood Production (% kcal)', fontsize=12)\n",
    "#     ax.set_title(title, fontsize=14)\n",
    "#     fig.tight_layout()\n",
    "    \n",
    "#     return plt.show()"
   ]
  },
  {
   "cell_type": "code",
   "execution_count": null,
   "metadata": {
    "code_folding": [
     0
    ],
    "collapsed": true
   },
   "outputs": [],
   "source": [
    "# prods = df_jk.copy()\n",
    "# plot_ranges(prods, variable='country_mean_p', title='Jacknife distributions \\nacross farm size classes\\n')"
   ]
  },
  {
   "cell_type": "markdown",
   "metadata": {},
   "source": [
    "<a name=\"Boostrap\"></a>\n",
    "<h3>Bootstrap Estimates Across Farm Sizes</h3>"
   ]
  },
  {
   "cell_type": "code",
   "execution_count": null,
   "metadata": {
    "code_folding": [],
    "collapsed": true
   },
   "outputs": [],
   "source": [
    "def bootstrap_results(data, method='bca', how='noncumulative', variable='production_Food_kcal'):\n",
    "\n",
    "    out = pd.DataFrame(columns=['Farm_Sizes', 'mean', 'ci_low', 'ci_high'])\n",
    "    dictionary = dict(zip(fs_order, range(0, len(fs_order))))  \n",
    "    data['ix'] = data['Farm_Sizes'].map(dictionary)\n",
    "    data = data.sort_values('ix')\n",
    "\n",
    "    for f in data['Farm_Sizes'].unique():\n",
    "\n",
    "        farms = []\n",
    "        lows = []\n",
    "        highs = []\n",
    "        means = []\n",
    "\n",
    "        tmp = data.loc[data['Farm_Sizes'] == f]\n",
    "        pivot = pd.pivot_table(tmp, \n",
    "                               index=['NAME_0'],\n",
    "                               values=variable, \n",
    "                               aggfunc=np.nansum).reset_index()\n",
    "        arr = np.log(np.array(pivot[variable]))\n",
    "\n",
    "        l, h = bootstrap.ci(arr, statfunction=np.nanmedian, alpha=0.05, n_samples=10000,\n",
    "               method=method, output='lowhigh', epsilon=0.001, multi=False,\n",
    "               _iter=True)\n",
    "        \n",
    "        if how is 'cumulative':\n",
    "\n",
    "            if f is data['Farm_Sizes'].unique()[0]:\n",
    "                fs_m = np.nansum(np.exp(arr)) / np.nansum(data[variable])\n",
    "            else:\n",
    "                fs_m = fs_m + (np.nansum(np.exp(arr)) / np.nansum(data[variable]))\n",
    "\n",
    "        else:\n",
    "            fs_m = np.nansum(np.exp(arr)) / np.nansum(data[variable])\n",
    "            \n",
    "        low = fs_m - (l / np.nansum(arr))\n",
    "        high = fs_m + (h / np.nansum(arr))\n",
    "\n",
    "        lows.append(low)\n",
    "        highs.append(high)\n",
    "        farms.append(f)\n",
    "        means.append(fs_m)\n",
    "\n",
    "        out_t = pd.concat([pd.DataFrame(farms, columns=['Farm_Sizes']),\n",
    "                           pd.DataFrame(lows, columns=['ci_low']),\n",
    "                           pd.DataFrame(highs, columns=['ci_high']),\n",
    "                           pd.DataFrame(means, columns=['mean'])], axis=1)\n",
    "        out = pd.concat([out, out_t], axis=0)\n",
    "\n",
    "\n",
    "    out['ix'] = out['Farm_Sizes'].map(dictionary)\n",
    "    out['ci_low'] = np.where(out['ci_low'] < 0., 0., out['ci_low'])\n",
    "\n",
    "    return out"
   ]
  },
  {
   "cell_type": "code",
   "execution_count": null,
   "metadata": {
    "collapsed": true,
    "scrolled": false
   },
   "outputs": [],
   "source": [
    "prods = bootstrap_results(data, how='noncumulative')\n",
    "barplot_resample(prods, title_insert='bootstrap');"
   ]
  },
  {
   "cell_type": "markdown",
   "metadata": {},
   "source": [
    "The bootstrap was calculated using the accelerated bias-corrected percentile limits method. Basically, this bootstrapping method is non-parametric and uses the proportion of resampled values that fall above the non-resampled mean to estimate the population distribution. Here, I used the natural log of the value before running the bootstrap procedure, since the distribution was near log-normal; without this transformation the confidence intervals were systematically shifted upwards. With the transformation they are now centered around the mean. The table below, shows each cumulative bootstrapped result."
   ]
  },
  {
   "cell_type": "code",
   "execution_count": null,
   "metadata": {
    "collapsed": true
   },
   "outputs": [],
   "source": [
    "prods_cumulative = bootstrap_results(data, how='cumulative')\n",
    "barplot_resample(prods_cumulative, title_insert='bootstrap');"
   ]
  },
  {
   "cell_type": "code",
   "execution_count": null,
   "metadata": {
    "collapsed": true
   },
   "outputs": [],
   "source": [
    "prods_cumulative"
   ]
  },
  {
   "cell_type": "code",
   "execution_count": null,
   "metadata": {
    "collapsed": true
   },
   "outputs": [],
   "source": [
    "# Variables that feed into dynamic abstract at top of notebook\n",
    "\n",
    "if use_predicted is False:\n",
    "    under2_low = round(100 * prods_cumulative.iloc[1, 2], 2)\n",
    "    under2_high = round(100 * prods_cumulative.iloc[1, 1], 2)\n",
    "else:\n",
    "    under2_low = round(100 * prods_cumulative.iloc[0, 2], 2)\n",
    "    under2_high = round(100 * prods_cumulative.iloc[0, 1], 2)"
   ]
  },
  {
   "cell_type": "markdown",
   "metadata": {},
   "source": [
    "#### Actual - All types within Farm Sizes\n",
    "\n",
    "Here we calculate the within farm size group bootstrap estimates using the same method as above."
   ]
  },
  {
   "cell_type": "code",
   "execution_count": null,
   "metadata": {
    "code_folding": [
     0
    ],
    "collapsed": true
   },
   "outputs": [],
   "source": [
    "def bootstrap_results_within(data, \n",
    "                             method='bca', \n",
    "                             how='noncumulative', \n",
    "                             variable='production_Food_kcal'):\n",
    "\n",
    "    out = pd.DataFrame(columns=['Farm_Sizes', 'mean', 'ci_low', 'ci_high'])\n",
    "    dictionary = dict(zip(fs_order, range(0, len(fs_order))))  \n",
    "    data['ix'] = data['Farm_Sizes'].map(dictionary)\n",
    "    data = data.sort_values('ix')\n",
    "\n",
    "    for f in data['Farm_Sizes'].unique():\n",
    "\n",
    "        farms = []\n",
    "        lows = []\n",
    "        highs = []\n",
    "        means = []\n",
    "\n",
    "        tmp = data.loc[data['Farm_Sizes'] == f]\n",
    "        pivot = pd.pivot_table(tmp, \n",
    "                                index=['NAME_0'],\n",
    "                                values=variable, \n",
    "                                aggfunc=np.nansum).reset_index()\n",
    "\n",
    "        arr = np.log(np.array(pivot[variable]))\n",
    "\n",
    "        l, h = bootstrap.ci(arr, statfunction=np.nanmedian, alpha=0.05, n_samples=10000,\n",
    "               method=method, output='lowhigh', epsilon=0.001, multi=False,\n",
    "               _iter=True)\n",
    "        \n",
    "        if how is 'cumulative':\n",
    "\n",
    "            if f is data['Farm_Sizes'].unique()[0]:\n",
    "                fs_m = np.nansum(np.exp(arr)) / np.nansum(data[variable])\n",
    "            else:\n",
    "                fs_m = fs_m + (np.nansum(np.exp(arr)) / np.nansum(data[variable]))\n",
    "\n",
    "        else:\n",
    "            \n",
    "            pivot1 = pd.pivot_table(tmp, \n",
    "                                    index=['NAME_0'],\n",
    "                                    values=['production_Feed_kcal',\n",
    "                                            'production_Food_kcal',\n",
    "                                            'production_Processing_kcal',\n",
    "                                            'production_Seed_kcal',\n",
    "                                            'production_Waste_kcal',\n",
    "                                            'production_Other_kcal'],\n",
    "                                    aggfunc=np.nansum).reset_index()\n",
    "\n",
    "            pivot1['value'] = pivot1.iloc[:, 1:].sum(axis=1)\n",
    "\n",
    "            pivot = pd.merge(pivot, pivot1, on=['NAME_0', variable], how='inner')\n",
    "            \n",
    "            fs_m = np.nansum(np.exp(arr)) / np.nansum(pivot['value'])\n",
    "            \n",
    "        low = fs_m - (l / np.nansum(arr))\n",
    "        high = fs_m + (h / np.nansum(arr))\n",
    "\n",
    "        lows.append(low)\n",
    "        highs.append(high)\n",
    "        farms.append(f)\n",
    "        means.append(fs_m)\n",
    "\n",
    "        out_t = pd.concat([pd.DataFrame(farms, columns=['Farm_Sizes']),\n",
    "                           pd.DataFrame(lows, columns=['ci_low']),\n",
    "                           pd.DataFrame(highs, columns=['ci_high']),\n",
    "                           pd.DataFrame(means, columns=['mean'])], axis=1)\n",
    "        out = pd.concat([out, out_t], axis=0)\n",
    "\n",
    "\n",
    "    out['ix'] = out['Farm_Sizes'].map(dictionary)\n",
    "    out['ci_low'] = np.where(out['ci_low'] < 0., 0., out['ci_low'])\n",
    "\n",
    "    return out"
   ]
  },
  {
   "cell_type": "code",
   "execution_count": null,
   "metadata": {
    "code_folding": [],
    "collapsed": true
   },
   "outputs": [],
   "source": [
    "data, fs_order, fs_txt = jacknife_prep(PATH, how='under2', \n",
    "                                       use_predicted=use_predicted, \n",
    "                                       predict_how='means',\n",
    "                                       variable=['production_Feed_kcal', \n",
    "                                                 'production_Food_kcal',\n",
    "                                                 'production_Processing_kcal',\n",
    "                                                 'production_Seed_kcal',\n",
    "                                                 'production_Waste_kcal',\n",
    "                                                 'production_Other_kcal'])"
   ]
  },
  {
   "cell_type": "code",
   "execution_count": null,
   "metadata": {
    "code_folding": [],
    "collapsed": true
   },
   "outputs": [],
   "source": [
    "for i in ['Feed', 'Food', 'Processing', 'Seed', 'Waste', 'Other']:\n",
    "    tmp = bootstrap_results_within(data, \n",
    "                                   method='bca', \n",
    "                                   how='noncumulative', \n",
    "                                   variable='production_{}_kcal'.format(i))\n",
    "    tmp['type'] = i\n",
    "    \n",
    "    if i is 'Feed':\n",
    "        out = tmp.copy()\n",
    "    else:\n",
    "        out = pd.concat([out, tmp], axis=0)"
   ]
  },
  {
   "cell_type": "code",
   "execution_count": null,
   "metadata": {
    "code_folding": [],
    "collapsed": true
   },
   "outputs": [],
   "source": [
    "fig = plt.figure(figsize=[15, 10])\n",
    "ts = ['Food', 'Feed', 'Processing', 'Seed', 'Waste', 'Other']\n",
    "\n",
    "# ts= ['Processing', 'Waste', 'Food']\n",
    "# colors = ['#A1DEE8', '#A591DB', '#908946']\n",
    "# ax = fig.add_subplot(111)\n",
    "for i in xrange(len(ts)):\n",
    "    ax = fig.add_subplot(2, 3, i+1)\n",
    "    t = out.loc[out['type'] == ts[i]]\n",
    "    ax.plot(t['ix'], 100*t['mean'], color=sns.color_palette('muted', len(ts))[i], linewidth=7, label=ts[i])\n",
    "    ax.fill_between(t['ix'], 100*t['ci_low'], 100*t['ci_high'], color='grey', alpha=0.2)\n",
    "    ax.set_title(ts[i], fontsize=12)\n",
    "    ax.set_ylabel('Percent', fontsize=12)\n",
    "    ax.set_xlabel('Farm Size (ha)', fontsize=12)\n",
    "    ax.set_xticks(np.arange(len(fs_order)))\n",
    "    ax.set_xticklabels([x[1:-1] for x in fs_order], rotation=45)\n",
    "    for tick in ax.xaxis.get_major_ticks():\n",
    "        tick.label.set_fontsize(12) \n",
    "    for tick in ax.yaxis.get_major_ticks():\n",
    "        tick.label.set_fontsize(12) \n",
    "    ax.spines['top'].set_visible(False)\n",
    "    ax.spines['right'].set_visible(False)\n",
    "\n",
    "# ax.legend()    \n",
    "fig.tight_layout()\n",
    "plt.show()"
   ]
  },
  {
   "cell_type": "markdown",
   "metadata": {},
   "source": [
    "###### Regional analysis on production category within farm sizes\n",
    "\n",
    "We test for regional differences in the production type analysis within each farm size group.\n",
    "Due to small sample sizes per region, results may be unstable using the bootstrap method and this is only used as a check for potential regional differences. It is not conclusive."
   ]
  },
  {
   "cell_type": "code",
   "execution_count": null,
   "metadata": {
    "collapsed": true
   },
   "outputs": [],
   "source": [
    "warnings.filterwarnings('ignore')\n",
    "\n",
    "regions = ['Africa', \n",
    "           'Australia & New Zealand', \n",
    "           'Asia', \n",
    "           'Central America', \n",
    "           'Europe', \n",
    "           'Northern America', \n",
    "           'Oceania', \n",
    "           'South America']\n",
    "\n",
    "fig = plt.figure(figsize=[15, 10])\n",
    "\n",
    "for region in xrange(len(regions)):\n",
    "    \n",
    "    data, fs_order, fs_txt = jacknife_prep(PATH, how='under2', \n",
    "                                           use_predicted=True, predict_how='means',\n",
    "                                           variable=['production_Feed_kcal', \n",
    "                                                     'production_Food_kcal',\n",
    "                                                     'production_Processing_kcal',\n",
    "                                                     'production_Seed_kcal',\n",
    "                                                     'production_Waste_kcal',\n",
    "                                                     'production_Other_kcal'],\n",
    "                                          region=regions[region])\n",
    "\n",
    "    \n",
    "    t = bootstrap_results_within(data, \n",
    "                                 method='bca', \n",
    "                                 how='noncumulative', \n",
    "                                 variable='production_Food_kcal')\n",
    "    \n",
    "    ax = fig.add_subplot(3,3, region+1)\n",
    "    \n",
    "    ax.plot(t['ix'], 100*t['mean'], color='r')\n",
    "    ax.fill_between(t['ix'], 100*t['ci_low'], 100*t['ci_high'], color='grey', alpha=0.2)\n",
    "    ax.set_title(regions[region])\n",
    "    ax.set_ylabel('Percent')\n",
    "    ax.set_xlabel('Farm Size (ha)')\n",
    "    ax.set_xticks(np.arange(len(fs_order)))\n",
    "    ax.set_xticklabels([x[1:-1] for x in fs_order], rotation=45)\n",
    "\n",
    "fig.tight_layout()\n",
    "plt.show()\n",
    "    "
   ]
  },
  {
   "cell_type": "markdown",
   "metadata": {
    "collapsed": true
   },
   "source": [
    "#### Actual and Predicted Together - All types Across Farm Sizes\n",
    "\n",
    "Here we combine all the directly measured and predicted data to compare production type across farm sizes."
   ]
  },
  {
   "cell_type": "code",
   "execution_count": null,
   "metadata": {
    "code_folding": [],
    "collapsed": true
   },
   "outputs": [],
   "source": [
    "def compile_predicted_actual(ffo_type='Food'):\n",
    "\n",
    "    predict_dict = OrderedDict([('predict', [True, 'means']),\n",
    "                                ('actual',  [True, 'actual'])])\n",
    "\n",
    "    for key, value in predict_dict.iteritems():\n",
    "\n",
    "        for i in xrange(1, len(value)):\n",
    "\n",
    "            data, fs_order, fs_txt = jacknife_prep(PATH, \n",
    "                                                   how='under2', \n",
    "                                                   use_predicted=value[0], \n",
    "                                                   predict_how=value[i],\n",
    "                                                   variable='production_{}_kcal'.format(ffo_type))\n",
    "\n",
    "            df_jk, prods = jacknife(data, variable='production_{}_kcal'.format(ffo_type))\n",
    "            \n",
    "            prods = bootstrap_results(data, \n",
    "                                      how='noncumulative', \n",
    "                                      variable='production_{}_kcal'.format(ffo_type))\n",
    "            prods['type'] = value[i]\n",
    "\n",
    "            if value[i] is 'means':\n",
    "                \n",
    "                out = prods.copy()\n",
    "\n",
    "            else:\n",
    "                \n",
    "                out = pd.concat([out, prods], axis=0)\n",
    "\n",
    "    return out"
   ]
  },
  {
   "cell_type": "code",
   "execution_count": null,
   "metadata": {
    "code_folding": [],
    "collapsed": true
   },
   "outputs": [],
   "source": [
    "def group_predicted(data):\n",
    "\n",
    "    data = pd.pivot_table(data,\n",
    "                          index=['Farm_Sizes', 'ix'],\n",
    "                          values=['ci_low', 'mean', 'ci_high'],\n",
    "                          aggfunc=[np.min, np.mean, np.max]).reset_index()\n",
    "    \n",
    "    data = pd.concat([pd.DataFrame(data['Farm_Sizes']),\n",
    "                      pd.DataFrame(data['ix']),\n",
    "                      pd.DataFrame(data['amin']['ci_low']),\n",
    "                      pd.DataFrame(data['mean']['mean']),\n",
    "                      pd.DataFrame(data['amax']['ci_high'])],\n",
    "                      axis=1)\n",
    "\n",
    "    data_cs = data.copy()\n",
    "\n",
    "    data_cs = data_cs.sort_values('ix')\n",
    "    data_cs['mean_'] = np.cumsum(data_cs['mean'])\n",
    "    data_cs['ci_low'] = (data_cs['mean_'] - \n",
    "                         (np.cumsum(data_cs['mean'] - data_cs['ci_low']) / (data_cs['ix'] + 1))) \n",
    "    data_cs['ci_high'] = ((np.cumsum(data_cs['ci_high'] - data_cs['mean']) / (data_cs['ix'] + 1)) +\n",
    "                          data_cs['mean_'])\n",
    "        \n",
    "    data_cs['mean'] = np.cumsum(data_cs['mean'])\n",
    "\n",
    "    return data, data_cs"
   ]
  },
  {
   "cell_type": "code",
   "execution_count": null,
   "metadata": {
    "code_folding": [],
    "collapsed": true
   },
   "outputs": [],
   "source": [
    "def plot_actual_predicted(data, ffo_type='Food'):\n",
    "\n",
    "    out2 = data.loc[(data['type'] == 'means') | (data['type'] == 'actual')]\n",
    "    together, together_cs = group_predicted(out2)\n",
    "\n",
    "    out2 = data.loc[data['type'] == 'actual']\n",
    "    actual, actual_cs = group_predicted(out2)\n",
    "    \n",
    "    fig = plt.figure(figsize=[15, 7])\n",
    "    ax1 = fig.add_subplot(121)\n",
    "    ax2 = fig.add_subplot(122)\n",
    "    barplot_resample(actual_cs, title_insert='bootstrap', ffo_type=ffo_type, ax=ax1)\n",
    "    barplot_resample(together_cs, title_insert='bootstrap', ffo_type=ffo_type, ax=ax2)\n",
    "    ax1.set_title('Actual Values ONLY\\n\\n' + ax1.get_title())\n",
    "    ax2.set_title('Actual AND Predicted Values\\n\\n' + ax2.get_title())\n",
    "    ax1.set_ylim([0,1.19])\n",
    "    ax2.set_ylim([0,1.19])\n",
    "    ax.spines['top'].set_visible(False)\n",
    "    ax.spines['right'].set_visible(False)\n",
    "\n",
    "    fig.tight_layout()\n",
    "    \n",
    "    return plt.show()"
   ]
  },
  {
   "cell_type": "code",
   "execution_count": null,
   "metadata": {
    "code_folding": [],
    "collapsed": true,
    "scrolled": false
   },
   "outputs": [],
   "source": [
    "txt = ['Food', 'Feed', 'Processing', 'Seed', 'Waste', 'Other']\n",
    "for i in txt:\n",
    "    \n",
    "    out1 = compile_predicted_actual(ffo_type=i)\n",
    "    out1['type_ffo'] = i\n",
    "    \n",
    "    if i is 'Food':\n",
    "        \n",
    "        out = out1.copy()\n",
    "        \n",
    "    else:\n",
    "        \n",
    "        out = pd.concat([out, out1], axis=0)"
   ]
  },
  {
   "cell_type": "code",
   "execution_count": null,
   "metadata": {
    "code_folding": [],
    "collapsed": true,
    "scrolled": false
   },
   "outputs": [],
   "source": [
    "def prep_bar_actual_modeled(data):\n",
    "\n",
    "#     data = data.sort_values(['type_ffo', 'ix'])\n",
    "    data['ci_low'], data['ci_high'] = [data['mean'] - data['ci_low'], \n",
    "                                       data['ci_high'] - data['mean']]\n",
    "\n",
    "    for i in xrange(0, len(data), 7):\n",
    "\n",
    "        line = pd.DataFrame({'Farm_Sizes': np.nan, \n",
    "                             'ci_high': np.nan,\n",
    "                             'ci_low': np.nan,\n",
    "                             'mean': np.nan,\n",
    "                             'ix': np.nan,\n",
    "                             'type_ffo': np.nan}, index=[i])\n",
    "\n",
    "        if i is 0:\n",
    "            \n",
    "            dd = data.reset_index(drop=True)\n",
    "        \n",
    "        elif i is not 42:\n",
    "        \n",
    "            dd = pd.concat([dd.ix[:i-1], line, dd.ix[i:]])\n",
    "\n",
    "    dd = dd.reset_index(drop=True)\n",
    "    dd = dd.reset_index()\n",
    "    yerr = np.array([dd['ci_low'], dd['ci_high']])\n",
    "    \n",
    "    return dd, yerr\n",
    "\n",
    "# out_all = pd.pivot_table(out, \n",
    "#                          index=['Farm_Sizes', 'ix', 'type_ffo'], \n",
    "#                          values=['ci_high', 'ci_low', 'mean'],\n",
    "#                          aggfunc=np.nanmean).reset_index()\n",
    "\n",
    "out_all = out.loc[out['type'] != 'actual']\n",
    "out_all = out_all.drop('type', 1)\n",
    "\n",
    "out_act = out.loc[out['type'] == 'actual']\n",
    "out_act = out_act.drop('type', 1)\n",
    "\n",
    "plt_all, yerr_all = prep_bar_actual_modeled(out_all)\n",
    "plt_act, yerr_act = prep_bar_actual_modeled(out_act)\n",
    "\n",
    "data_tmp, fs_order, fs_txt = jacknife_prep(PATH, how='under1', \n",
    "                                           use_predicted=True, predict_how='means',\n",
    "                                           variable='production_Food_kcal')"
   ]
  },
  {
   "cell_type": "code",
   "execution_count": null,
   "metadata": {
    "collapsed": true,
    "scrolled": false
   },
   "outputs": [],
   "source": [
    "fig = plt.figure(figsize=[15, 7])\n",
    "ax = fig.add_subplot(111)\n",
    "\n",
    "# for d, y, a in zip([plt_all, plt_act], \n",
    "#                    [yerr_all, yerr_act],\n",
    "#                    [0.2, 1]):\n",
    "#     ax.bar(d['index'], d['mean'], \n",
    "#            yerr=y, \n",
    "#            color=sns.color_palette('YlGnBu', 7)*6,\n",
    "#            edgecolor='grey',\n",
    "#            error_kw=dict(ecolor='k', lw=2, alpha=0.7, capsize=5, capthick=0),\n",
    "#            alpha=a)\n",
    "\n",
    "ax.bar(plt_all['index'], plt_all['mean'], \n",
    "       yerr=yerr_all, \n",
    "       color=sns.color_palette('BuPu', 8)*6,\n",
    "       edgecolor='grey',\n",
    "       error_kw=dict(ecolor='k', lw=2, alpha=0.7, capsize=5, capthick=0),\n",
    "       alpha=1)\n",
    "\n",
    "ax.plot(plt_act['index'], plt_act['mean'],  # Makes a halo to highlight the actual values\n",
    "        color='w',\n",
    "        marker='s',\n",
    "        markersize=8,\n",
    "        linewidth=0,\n",
    "        alpha=0.5)\n",
    "\n",
    "\n",
    "ax.plot(plt_act['index'], plt_act['mean'], \n",
    "        color='k',\n",
    "        marker='o',\n",
    "        markersize=4,\n",
    "        linewidth=0,\n",
    "        alpha=0.5)\n",
    "\n",
    "\n",
    "ax.errorbar(plt_act['index'], plt_act['mean'], yerr_act, \n",
    "            ecolor='k', \n",
    "            lw=0, \n",
    "            capsize=5, \n",
    "            capthick=2, \n",
    "            linestyle='',\n",
    "            alpha=0.5)\n",
    "\n",
    "\n",
    "\n",
    "h = []\n",
    "line_ = lines.Line2D([], [], color='k',linestyle='', alpha=0.5,\n",
    "                     linewidth=1, marker='', markersize=4)\n",
    "h.append(line_)\n",
    "\n",
    "for i in xrange(7):\n",
    "    line_ = lines.Line2D([], [], color=sns.color_palette('BuPu', 7)[i], linewidth=10)\n",
    "    h.append(line_)\n",
    "    \n",
    "line_ = lines.Line2D([], [], color='k',linestyle='', alpha=0.5,\n",
    "                     linewidth=1, marker='', markersize=4)\n",
    "h.append(line_)\n",
    "\n",
    "line_ = lines.Line2D([], [], color='k',linestyle='', alpha=0.5,\n",
    "                     linewidth=1, marker='o', markersize=4)\n",
    "h.append(line_)\n",
    "\n",
    "line_ = lines.Line2D([], [], color='k',linestyle='', alpha=0.5,\n",
    "                     linewidth=1, marker=\"$%s$\" % u'\\u268C')\n",
    "h.append(line_)\n",
    "\n",
    "\n",
    "labels=[x[1:-1] for x in [' Including predicted data\\n '] + fs_order + \n",
    "                         [' \\n\\nActual data\\n ', ' Median ', ' Error ']]\n",
    "\n",
    "ax.set_xticks(range(3, len(plt_act), 8))\n",
    "ax.set_xticklabels(txt + [np.nan*8])\n",
    "ax.set_ylabel('Percent]n', fontsize=12)\n",
    "vals = ax.get_yticks()\n",
    "ax.set_yticklabels(['{}'.format(int(x*100)) for x in vals], fontsize=12)\n",
    "ax.spines['top'].set_visible(False)\n",
    "ax.spines['right'].set_visible(False)\n",
    "\n",
    "ax.legend(handles=h, labels=labels,\n",
    "         loc='center left',\n",
    "         borderpad=2,\n",
    "         ncol=1,\n",
    "         frameon=0,\n",
    "         bbox_to_anchor=(1, .5))\n",
    "\n",
    "fig.savefig(\"/Users/Vinny_Ricciardi/Desktop/predicted.png\",\n",
    "           dpi=1000,\n",
    "           transparent=True,\n",
    "           bbox_inches='tight')\n",
    "plt.show()"
   ]
  },
  {
   "cell_type": "markdown",
   "metadata": {
    "collapsed": true
   },
   "source": [
    "The above plot shows each farm size's percentage of production across food, feed, processing, seed, waste, and other categories. The shades of blues to purple indicate farm sizes. The bars are the predicted and actual (our dataset) values combined, while the gray dots indicate the actual values only; the vertical black lines and horizontal gray lines are the confidence intervals for each."
   ]
  },
  {
   "cell_type": "code",
   "execution_count": null,
   "metadata": {
    "code_folding": [
     0
    ],
    "collapsed": true
   },
   "outputs": [],
   "source": [
    "data_orig = join_predicted(PATH, \n",
    "                           use_predicted=True, \n",
    "                           predict_how='means')\n",
    "\n",
    "df2 = clean_data(data_orig)\n",
    "\n",
    "df_within2 = perc(df2, how='within')\n",
    "df_across2 = perc(df2, how='across')\n",
    "df_cumsum2 = perc(df2, how='cumsum')"
   ]
  },
  {
   "cell_type": "code",
   "execution_count": null,
   "metadata": {
    "collapsed": true
   },
   "outputs": [],
   "source": [
    "tmp = df_across.reindex().transpose().loc[:,['Food', 'Feed', 'Processing', 'Other', 'Seed', 'Waste']]\n",
    "tmp2 = df_within.loc[:,['Food', 'Feed', 'Processing', 'Other', 'Seed', 'Waste']]\n",
    "tmp3 = 100 * tmp * tmp2\n",
    "tmp3 = tmp3.reset_index()\n",
    "tmp3['Farm_Sizes'] = tmp3['Farm_Sizes'].astype(str)\n",
    "tmp3 = tmp3.set_index('Farm_Sizes').transpose()\n",
    "\n",
    "tmp3['(0, 2]'] = tmp3.iloc[:, :2].sum(axis=1)\n",
    "tmp3['(100, 100000]'] = tmp3.iloc[:, -5:-1].sum(axis=1)\n",
    "tmp3 = tmp3.iloc[:, [11,2,3,4,5,6,-1]].transpose()"
   ]
  },
  {
   "cell_type": "code",
   "execution_count": null,
   "metadata": {
    "code_folding": [],
    "collapsed": true
   },
   "outputs": [],
   "source": [
    "tmp = df_across.reindex().transpose().loc[:,['Food', 'Feed', 'Processing', 'Other', 'Seed', 'Waste']]\n",
    "tmp2 = df_within.loc[:,['Food', 'Feed', 'Processing', 'Other', 'Seed', 'Waste']]\n",
    "tmp3 = 100 * tmp * tmp2\n",
    "tmp3 = tmp3.reset_index()\n",
    "tmp3['Farm_Sizes'] = tmp3['Farm_Sizes'].astype(str)\n",
    "tmp3 = tmp3.set_index('Farm_Sizes').transpose()\n",
    "\n",
    "tmp3['(0, 2]'] = tmp3.iloc[:, :2].sum(axis=1)\n",
    "tmp3['(100, 100000]'] = tmp3.iloc[:, -5:-1].sum(axis=1)\n",
    "tmp3 = tmp3.iloc[:, [11,2,3,4,5,6,-1]].transpose()\n",
    "\n",
    "fig = plt.figure(figsize=[15,6])\n",
    "ax1 = fig.add_subplot(131)\n",
    "tmp3.plot(kind='bar',\n",
    "          stacked=True,\n",
    "          cmap=ListedColormap(sns.color_palette('muted', n_colors=6).as_hex()),\n",
    "          alpha=0.9,\n",
    "          linewidth=0,\n",
    "          grid=False,\n",
    "          legend=False,\n",
    "          ax=ax1)\n",
    "\n",
    "ax1.set_xticklabels([x.get_text()[1:-1] for x in ax1.get_xticklabels()], rotation=45)\n",
    "ax1.tick_params(axis='both', which='major', labelsize=14)\n",
    "ax1.set_xlabel('Farm Size (ha)', fontsize=14)\n",
    "ax1.set_ylabel('Percentage\\n', fontsize=14)\n",
    "ax1.set_title('Type of production per farm sizes\\nUsing directly measured data\\n', fontsize=14)\n",
    "ax1.set_yticks(np.arange(0,60,10))\n",
    "ax1.spines['top'].set_visible(False)\n",
    "ax1.spines['right'].set_visible(False)\n",
    "\n",
    "\n",
    "tmp = df_across2.reindex().transpose().loc[:,['Food', 'Feed', 'Processing', 'Other', 'Seed', 'Waste']]\n",
    "tmp2 = df_within2.loc[:,['Food', 'Feed', 'Processing', 'Other', 'Seed', 'Waste']]\n",
    "tmp4 = 100 * tmp * tmp2\n",
    "ax2 = fig.add_subplot(132)\n",
    "tmp4.plot(kind='bar',\n",
    "          stacked=True,\n",
    "          cmap=ListedColormap(sns.color_palette('muted', n_colors=6).as_hex()),\n",
    "          alpha=0.9,\n",
    "          linewidth=0,\n",
    "          grid=False, \n",
    "          legend=False,\n",
    "          ax=ax2)\n",
    "\n",
    "ax2.set_xticklabels([x.get_text()[1:-1] for x in ax2.get_xticklabels()], rotation=45)\n",
    "ax2.tick_params(axis='both', which='major', labelsize=14)\n",
    "ax2.set_xlabel('Farm Size (ha)', fontsize=14)\n",
    "# ax2.set_ylabel('Percentage\\n', fontsize=14)\n",
    "ax2.set_title('Type of production per farm sizes\\nUsing directly measured + predicted data\\n', fontsize=14)\n",
    "ax2.set_yticks(np.arange(0,60,10))\n",
    "ax2.spines['top'].set_visible(False)\n",
    "ax2.spines['right'].set_visible(False)\n",
    "\n",
    "\n",
    "ax3 = fig.add_subplot(133)\n",
    "tmp5 = tmp3 - tmp4\n",
    "tmp5.plot(kind='bar',\n",
    "          stacked=True,\n",
    "          cmap=ListedColormap(sns.color_palette('muted', n_colors=6).as_hex()),\n",
    "          alpha=0.9,\n",
    "          linewidth=0,\n",
    "          grid=False,\n",
    "          legend=True,\n",
    "          ax=ax3)\n",
    "\n",
    "ax3.set_xticklabels([x.get_text()[1:-1] for x in ax3.get_xticklabels()], rotation=45)\n",
    "ax3.tick_params(axis='both', which='major', labelsize=14)\n",
    "ax3.set_xlabel('Farm Size (ha)', fontsize=14)\n",
    "# ax3.set_ylabel('Percentage\\n', fontsize=14)\n",
    "ax3.set_title('Difference between directly measured and\\n directly measured + predicted data\\n', fontsize=14)\n",
    "ax3.spines['top'].set_visible(False)\n",
    "ax3.spines['right'].set_visible(False)\n",
    "h,l = ax1.get_legend_handles_labels()\n",
    "h = reversed(h)\n",
    "l = reversed(l)\n",
    "ax3.legend(h, l, loc=[1.05, 0.4], frameon=False, fontsize=14);\n",
    "\n",
    "fig.tight_layout()\n",
    "fig.savefig('/Users/Vinny_Ricciardi/Desktop/actual_predicted_all.png', bbox_inches='tight')\n",
    "\n",
    "plt.show()"
   ]
  },
  {
   "cell_type": "code",
   "execution_count": null,
   "metadata": {
    "collapsed": true
   },
   "outputs": [],
   "source": []
  },
  {
   "cell_type": "code",
   "execution_count": null,
   "metadata": {
    "collapsed": true
   },
   "outputs": [],
   "source": []
  },
  {
   "cell_type": "code",
   "execution_count": null,
   "metadata": {
    "collapsed": true
   },
   "outputs": [],
   "source": []
  },
  {
   "cell_type": "code",
   "execution_count": null,
   "metadata": {
    "collapsed": true
   },
   "outputs": [],
   "source": []
  },
  {
   "cell_type": "code",
   "execution_count": null,
   "metadata": {
    "collapsed": true
   },
   "outputs": [],
   "source": []
  }
 ],
 "metadata": {
  "kernelspec": {
   "display_name": "py2_farmsize",
   "language": "python",
   "name": "py2_farmsize"
  },
  "language_info": {
   "codemirror_mode": {
    "name": "ipython",
    "version": 2
   },
   "file_extension": ".py",
   "mimetype": "text/x-python",
   "name": "python",
   "nbconvert_exporter": "python",
   "pygments_lexer": "ipython2",
   "version": "2.7.14"
  },
  "toc": {
   "nav_menu": {},
   "number_sections": true,
   "sideBar": true,
   "skip_h1_title": false,
   "toc_cell": false,
   "toc_position": {},
   "toc_section_display": "block",
   "toc_window_display": true
  }
 },
 "nbformat": 4,
 "nbformat_minor": 2
}
