{
 "cells": [
  {
   "cell_type": "markdown",
   "metadata": {},
   "source": [
    "# Automation with crontab<br><br>"
   ]
  },
  {
   "cell_type": "markdown",
   "metadata": {},
   "source": [
    "Learning how to automate everyday tasks in Bash makes life easier. This small tutorial overviews the built in UNIX program called `crontab`. `Crontab` is a great tool to schedule tasks that need repeating. I use it when I need to scrape a set of webpages on a scheduled basis (see my [Scrapy tutorial](https://vinnyricciardi.github.io/toolsntricks/scrapy_tutorial/) or to remind me to do daily tasks. \n",
    "\n",
    "Since it's near the start of the year, and we all have New Year's resolutions that will most likely be abandoned in February, I decided to write daily workout reminders. Here I'll overview how to use `crontab` with this daily automation example.\n",
    "\n",
    "To orient you to using `crontab`, we can fire up a terminal and type:\n",
    "\n",
    ">crontab -e\n",
    "\n",
    "This will open your default editor. If you don't have this environmental variable set, it will most likely be the `nano` editor in OSX and Ubuntu (sorry, I don't have access to a Window machine). You should see something like this:"
   ]
  },
  {
   "cell_type": "code",
   "execution_count": 2,
   "metadata": {
    "collapsed": true
   },
   "outputs": [],
   "source": [
    "# Edit this file to introduce tasks to be run by cron.\n",
    "#\n",
    "# Each task to run has to be defined through a single line\n",
    "# indicating with different fields when the task will be run\n",
    "# and what command to run for the task\n",
    "#\n",
    "# To define the time you can provide concrete values for\n",
    "# minute (m), hour (h), day of month (dom), month (mon),\n",
    "# and day of week (dow) or use '*' in these fields (for 'any').#\n",
    "# Notice that tasks will be started based on the cron's system\n",
    "# daemon's notion of time and timezones.\n",
    "#\n",
    "# Output of the crontab jobs (including errors) is sent through\n",
    "# email to the user the crontab file belongs to (unless redirected).\n",
    "#\n",
    "# For example, you can run a backup of all your user accounts\n",
    "# at 5 a.m every week with:\n",
    "# 0 5 * * 1 tar -zcf /var/backups/home.tgz /home/\n",
    "#\n",
    "# For more information see the manual pages of crontab(5) and cron(8)\n",
    "#\n",
    "# m h  dom mon dow   command"
   ]
  },
  {
   "cell_type": "markdown",
   "metadata": {},
   "source": [
    "The very last line tells you what to do. You can set a `command` to run at a given minute (`m`), hour (`h`; in 24-hr format), day of month (`dom`; e.g., not the date, but the 1st, 2nd, 3rd, etc. day of the month), month, (`mon`), and day of week (`dow`), or you can use `*` in any of those fields to run the script at every minute, hour, day, etc. Importantly, you need to write something in every slot.\n",
    "\n",
    "For our examples we're going to use the program `notify-send`. If your computer doesn't have `notify-send`, on Ubuntu you can install it with:\n",
    "\n",
    ">sudo apt-get install notify-osd\n",
    "\n",
    "Then test to make sure it's installed properly:\n",
    "\n",
    ">notify-send \"Workout time!\"\n",
    "\n",
    "Or you can use an [OSX alternative](http://osxdaily.com/2012/08/03/send-an-alert-to-notification-center-from-the-command-line-in-os-x/).\n",
    "\n",
    "\n",
    "Now that you're all set up with notify send, we can jump into automating a simple daily task to tell us to workout.\n",
    "\n",
    "For example, if we want to have a reminder go off everyday at noon, we can write:\n",
    "\n",
    ">\\* 12 \\* \\* \\* DISPLAY=:0.0 && notify-send \"Workout time!\"\n",
    "\n",
    "This uses the command line program `notify-send` to generate a pop-up telling us to workout at noon everyday. If you wanted to go nuts and do pushups every hour (say at the 10th minute of every hour: 9:10a, 10:10a, etc.), then we can write:\n",
    "\n",
    ">10 \\* \\* \\* \\* DISPLAY=:0.0 && notify-send \"Workout time!\"\n",
    "\n",
    "And of course we can combine these, so that we could schedule a notification to tell us to do pushups every day at 12:10p:\n",
    "\n",
    ">10 12 \\* \\* \\* DISPLAY=:0.0 && notify-send \"Workout time!\"\n",
    "\n",
    "We can also have one line set the command to run at many different times. The following would run at 9a, 10a, 11a, 12p, and 1p (note, do not use spaces between numbers).\n",
    "\n",
    ">\\* 9,10,11,12,13 \\* \\* \\* DISPLAY=:0.0 && notify-send \"Workout time!\"\n",
    "\n",
    "We can also use fractions to help us not have to spell out every time. The following would run every 5 minutes:\n",
    "\n",
    ">\\* /5 \\* \\* \\* DISPLAY=:0.0 && notify-send \"Workout time!\"\n",
    "\n",
    "If you need help figuring out more ways to denote time, check out the great website: https://crontab.guru"
   ]
  },
  {
   "cell_type": "markdown",
   "metadata": {},
   "source": [
    "<br>\n",
    "#### Super important!!!<br>"
   ]
  },
  {
   "cell_type": "markdown",
   "metadata": {},
   "source": [
    "In order to actually load your command into `crontab` and have it queued to run, you need to save the file and in the case of using the `nano` editor you also need to close the file. To save in `nano`, press `ctrl-o` then `enter`. To exit `nano`, type `ctrl-x`.\n",
    "\n",
    "One extra explanation. You may have noticed that when we do not use `crontab`, we can just type notify-send \"Workout time!\", but when we do use `crontab` we have to include DISPLAY=:0.0. DISPLAY=:0.0 is needed when we try to run a graphical interface from the terminal. While the terminal will already have this feature loaded without us needing to write it explicitly, `crontab` will not have this feature loaded. This problem comes up a lot with `crontab`. So a word of advice, if you can run a command without `crontab` but have trouble when running through `crontab`, then try to load the environmental variables or `source ~/.bashrc` or `source ~/.profile` to load your environmental variable presets."
   ]
  },
  {
   "cell_type": "markdown",
   "metadata": {},
   "source": [
    "<br>\n",
    "#### And now for fun<br>"
   ]
  },
  {
   "cell_type": "markdown",
   "metadata": {},
   "source": [
    "One fun thing with notify-send is that you can customize it in many ways. I added cartoon images to my workout messages by using the -i tag:\n",
    "\n",
    ">0 10 * * * export DISPLAY=:0.0 && notify-send -i ~/Path/to/image/pushup.jpg -t 300000 \"Workout!\" \"Pushups: 20x2 \\ncrunches 30 x2\"\n",
    "\n",
    "![]({filename}/images/pushup.jpg)\n",
    "\n",
    "So at 10a, a little notification with a cartoon of a fella doing a pushup pops up on my screen and tells me to workout. The -t tag is how long the notification will stay on my screen in milliseconds."
   ]
  },
  {
   "cell_type": "markdown",
   "metadata": {},
   "source": [
    "<br>\n",
    "#### Back to the main point<br>"
   ]
  },
  {
   "cell_type": "markdown",
   "metadata": {},
   "source": [
    "You can use crontabs to automate hourly, daily, etc. tasks that will make your life easier. If you want to run a script instead of the notify-send, then just type something like:\n",
    "\n",
    ">0 10 \\* \\* \\* python script.py\n",
    "\n",
    "The sky's the limit with what you can do.\n",
    "\n",
    "Happy automating!\n",
    "<br><br><br><br>"
   ]
  },
  {
   "cell_type": "code",
   "execution_count": null,
   "metadata": {
    "collapsed": true
   },
   "outputs": [],
   "source": []
  }
 ],
 "metadata": {
  "kernelspec": {
   "display_name": "py2_website",
   "language": "python",
   "name": "py2_website"
  },
  "language_info": {
   "codemirror_mode": {
    "name": "ipython",
    "version": 2
   },
   "file_extension": ".py",
   "mimetype": "text/x-python",
   "name": "python",
   "nbconvert_exporter": "python",
   "pygments_lexer": "ipython2",
   "version": "2.7.15rc1"
  },
  "toc": {
   "nav_menu": {},
   "number_sections": true,
   "sideBar": true,
   "skip_h1_title": false,
   "toc_cell": false,
   "toc_position": {},
   "toc_section_display": "block",
   "toc_window_display": true
  }
 },
 "nbformat": 4,
 "nbformat_minor": 2
}
